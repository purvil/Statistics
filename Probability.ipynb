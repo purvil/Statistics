{
 "cells": [
  {
   "cell_type": "markdown",
   "metadata": {},
   "source": [
    "* Probability is used to describe randomness.\n",
    "* Random process: We know what outcome could happen, but do not know which particular outcome will happen? Ex. coin toss, die roll, shuffle music\n",
    "* P(A) is probability of event A.\n",
    "* Probability must be between 0 and 1 (inclusive)\n",
    "* Probability means likelihood or chance of particular event taking place. Even is outcome of experiment. Experiment is a process that is performed to understand and observe possible outcomes. Set of all outcomes of an experiment is called sample space.\n",
    "* Random experiment is an experiment with uncertain outcome. (Ex. tossing coin)\n",
    "\n",
    "#### Frequentist interpretation of probability\n",
    "* The probability of an outcome is the proportion of times the outcome would occur if we observed the random process infinite number of times.\n",
    "#### Bayesian interpretation\n",
    "* A bayesian interprets probability as a subjective degree of belief. For the same event 2 different people has different belief so they can assign different probability.\n",
    "#### Law of large numbers\n",
    "* As more observations are collected, the proportion of occurrences with a particular outcome converges to the probability of that outcome.\n",
    "#### Gambler's fallacy (Law of averages)\n",
    "* Random process is suppose to compancate whatever happened in past. This is wrong\n",
    "* Misunderstanding of law of large number.\n",
    "\n",
    "### Disjoint(Mutually exclusive) events\n",
    "* Events that can not happen at the same time.\n",
    "* Outcome of single coin toss can not be both head and tail.\n",
    "* Student can not fail and pass a task\n",
    "![Disjoint](images/disjoint.jpg)\n",
    "\n",
    "### Non-disjoint event\n",
    "* Events can happen at the same time. Student get grade A in maths and programming\n",
    "![Non Disjoint](images/non_disjoint.jpg)\n",
    "\n",
    "### Collectively Exhaustive events\n",
    "* 1 of the events must occur\n",
    "* The set of events covers the entire sample space.\n",
    "* Ex. randomly chosen day from 2018.\n",
    "    - A = weekday, B = weekend, C = January, D = Spring\n",
    "    - A,B,C,D are collectively exhaustive but not mutually exclusive\n",
    "    - A and B are collectively exhaustive and also mutually exclusive"
   ]
  },
  {
   "cell_type": "markdown",
   "metadata": {},
   "source": [
    "### Union of disjoint event\n",
    "* What is the probability of drawing a jack OR a 3 from well shuffled deck of cards?\n",
    "    - P(J or 3) = P(J) + P(3) = $\\frac{4}{52} + \\frac{4}{52} = \\frac{8}{52} = 0.154$\n",
    "* For disjoint event A and B, \n",
    "$$P(A or B) = P(A) + P(B)$$"
   ]
  },
  {
   "cell_type": "markdown",
   "metadata": {},
   "source": [
    "### Union of non-disjoint event\n",
    "* Probability of jack or a red card from well shuffled deck of cards\n",
    "    - P(J or red) = P(J) + P(Red) - P(J and Red) = $\\frac{4}{52} + \\frac{26}{52} - \\frac{2}{52} = \\frac{28}{52} = 0.538$\n",
    "* For non disjoint event A and B,\n",
    "$$ P(A or B) = P(A) + P(B) - P(A and B) $$"
   ]
  },
  {
   "cell_type": "markdown",
   "metadata": {},
   "source": [
    "### Sample space\n",
    "* Collection of all possible outcome of a trial.\n",
    "* Couple has a 2 kids, what is the sample space of sex of 2 kids?\n",
    "    - S = {MM, FF, MF, FM}\n",
    "\n",
    "### Probability Distribution\n",
    "* Lists all possible outcomes in the sample space and probability with which they occur.\n",
    "* Rules\n",
    "    - Event listed must be disjoint\n",
    "    - Each probability must be 0 or 1\n",
    "    - The sum of all probabilities must be total 1.\n",
    "![Probability Distribution](images/probability_distribution.jpg)"
   ]
  },
  {
   "cell_type": "markdown",
   "metadata": {},
   "source": [
    "### Complementary events\n",
    "* Two disjoint events whose probabilities adds up to 1.\n",
    "* Tossing one coin, head and tail are complementary events.\n",
    "* Complementary event are always disjoint but opposite is NOT true."
   ]
  },
  {
   "cell_type": "markdown",
   "metadata": {},
   "source": [
    "### Independence\n",
    "* 2 processes are independent if knowing the outcome of one provides NO useful info about outcome of other.\n",
    "* Knowing 1st coin toss resulted in Head, does not provides any information about result of second. Meaning 2 coin toss are independent.\n",
    "* Knowing 1st card draw is ace red, provide information about 2nd card draw if done without replacement.\n",
    "* Rules for checking for independence\n",
    "    - P(A | B) = P(A), then A and B are independent. Meaning knowing B tells us nothing about A.\n",
    "* Ex. Having gun protect good citizens. 58% of all respondents say yes, 67% of whilte, 28% black, 64% of hispanic say yes.\n",
    "    - P(Protect citizen) = 0.58\n",
    "    - P(Protect citizen | white) = 0.67\n",
    "    - P(Protect citizen | Black) = 0.28\n",
    "    - P(Protect citizen | Hispanic) = 0.64\n",
    "* Belief and ethnicity is dependent.\n",
    "![Determining dependence](images/dependence.png)\n",
    "* If A and B are independent P(A and B) = P(A) X P(B)\n",
    "* Toss a coin twice what is the probability of getting 2 tails in row?\n",
    "    - P(Tail on 1st toss) * P(Tail in second) = 0.5 * 0.5 = 0.25 \n",
    "* Disjoint events are always dependent. As we know that if one happens other can not happen."
   ]
  },
  {
   "cell_type": "markdown",
   "metadata": {},
   "source": [
    "### Conditional Probability\n",
    "* Sometimes there is a relation between 2 events, Ex. Parents has college degree. WHat is the chance of student to get into college?\n",
    "* 48 working class, 50 upper middle class students\n",
    "* First student is assigned to social class based on their self reported measures like income, education.\n",
    "* Student are asked series of questions to determine \"Subjective\" association to social class. This is the social class student think they belong to.\n",
    "![conditional](images/conditional.jpg)\n"
   ]
  },
  {
   "cell_type": "markdown",
   "metadata": {},
   "source": [
    "#### Marginal Probability\n",
    "* What is the probability that a student's objective social class position is upper middle class?\n",
    "    - 50/98 = 0.51 = P(objective UMC)\n",
    "* Why marginal, as count we use to calculate probability comes from margin(outer layer) of contingency table.\n",
    "* Probability based on single variable.\n",
    "\n",
    "### Joint probability\n",
    "* Probability of an occurrence of 2 or more events (Joint event) \n",
    "* What is the probability that objective and subjective identity are both upper middle class?\n",
    "    - 37 / 98 = 0.38 = P(obj UMC and Sub UMC)\n",
    "* Probability outcome of 2 or more variable.\n",
    "\n",
    "### Conditional probability\n",
    "* We are computing probability under condition.\n",
    "* probability of student who is objectively in the working class but associates with upper middle class?\n",
    "    - 8 / 48 = 0.17 P(subjective UMC|obj wc)\n",
    "    * We first conditioned on working class og objective and Only from that column we check subjective UMC.\n",
    "\n",
    "#### Bayes' theorem\n",
    "$$P(A | B) = \\frac{P(A and B)}{P(B)}$$\n",
    "- Joint probability in numerator divided by whatever we are conditioned on.\n",
    "- Ex. 14.6 % American live below poverty line. 20.7% speak a language other than English at home. 4.2% falls in both categories. What % of American live below poverty and speak other than English.\n",
    "    - P(below poverty | other than English) = $\\frac{0.042}{0.207}$ = 0.2\n",
    "- What % of people who are below poverty also speak language other than English\n",
    "    - P(other than English | below poverty) = 0.042/0.146 = 0.29"
   ]
  },
  {
   "cell_type": "markdown",
   "metadata": {},
   "source": [
    "* Earlier we saw that if A and B are independent than Joint probability of them meaning P(A and B) = P(A)*P(B)\n",
    "* But what if we can not guarantee independence?\n",
    "    - As per bayes' theorem,\n",
    "    $$P(A and B) = P(A | B) * P(B)$$\n",
    "    - This is called General Product Rule."
   ]
  },
  {
   "cell_type": "markdown",
   "metadata": {},
   "source": [
    "![conditional Example](images/example.jpg)"
   ]
  },
  {
   "cell_type": "markdown",
   "metadata": {},
   "source": [
    "* P(SS) = 60 / 100 = 0.6\n",
    "* P(SS|F) = 30/50 = 0.6\n",
    "* P(SS|M) = 30/50 = 0.6\n",
    "* Here P(SS|F) = P(SS) so independent events"
   ]
  },
  {
   "cell_type": "markdown",
   "metadata": {},
   "source": [
    "#### Sum of conditional probability\n",
    "* Let A1, A2, ..., Ak represent all the disjoint outcomes for a variable or process. Then if B is an event, for another process or variable, then \n",
    "$$P(A1|B) + ... + P(Ak|B) = 1$$\n",
    "* When event and its complement conditioned on same info\n",
    "$$P(A|B) = 1 - P(A^c|B)$$"
   ]
  },
  {
   "cell_type": "markdown",
   "metadata": {},
   "source": [
    "### Probability Tree\n",
    "* When asked condition is reversed than given use tree diagram to find conditional probability. Useful when asked second conditional probability and given first.\n",
    "* 100 total email, 60 spam, 40 are not. Out of 60 spam, 35 contains word \"free\". Of rest 3 contains word \"free\". If email contains word free, What is the probability that email is spam?\n",
    "![Tree Example](images/tree1.jpg)\n",
    "    \n",
    "    - $P(Spam\\ | Free) = \\frac{P(Spam\\ and free)}{P(Free)} = \\frac{35}{35 + 3} = \\frac{35}{38}$\n",
    "    \n",
    "* Probability on same level always add up to 1.\n",
    "* 25.9% population has HIV. ELISA test is 99.7% accurate for positive and 92.6% accurate for negative. If individual tested positive, what is the probability that he has HIV\n",
    "    - P(HIV) = 0.259\n",
    "    - p(+ | HIV) = 0.997\n",
    "    - P(- | NO HIV) = 0.926\n",
    "    - Find P(HIV | positive)\n",
    "![Tree Example](images/tree2.jpg)"
   ]
  },
  {
   "cell_type": "markdown",
   "metadata": {},
   "source": [
    "### Bayesian inference\n",
    "* Useful when 2 or more process executed in sequence, and each process is conditioned on predecessor\n",
    "* In one hand 6-sided die, other hand 12-sided. Game is to guess which hand holding which die.\n",
    "* Probability of rolling >=4 with 6-sided die = 1/2\n",
    "* Probability of rolling >=4 with 12-sided die = 9/12 = 3/4\n",
    "* We are playing a game where goal is to roll >=4, of course we will pickup 12-sided die. So 12-sided die is \"good die\". SO our goal is to find which hand has good die.\n",
    "* Our prior probability of good die on the right and bad die is on left is 50%. good die on left, bad die on right is 50%.\n",
    "* Round 1\n",
    "    - I picked right hand, roll result is >=4\n",
    "![Example](images/bayesian_6_12.jpg)"
   ]
  },
  {
   "cell_type": "markdown",
   "metadata": {},
   "source": [
    "* Probability we calculated is called posterior probability. P(good die on right | rolled number >= 4). Posterior probability is defined as P(Hypothesis | Data)\n",
    "* It tells probability of hypothesis we set forth given the data we just observed. It depends on both prior probability and observed data.\n",
    "* It is different than p-value which is P(data | hypothesis) meaning probability of observed or more extreme data given null hypothesis is true.\n",
    "* Updating prior\n",
    "    * In the bayesian approach we evaluate claim iteratively as we collects more data\n",
    "    * In next iteration we get to take advantage of what we learned in previous iteration.\n",
    "    * We update our prior with posterior probability from previous iteration.\n",
    "    * P(Good die on right) = 0.6 = Hypothesis 1\n",
    "    * P(Good die on left) = 0.4 = Hypothesis 2\n",
    "    * Good priors hurts, but bad priors hurts. Prior matters less the more data we have.\n",
    "* Example: 1.7% women have breast cancer. Mammography identify 78% women who truly have breast cancer. 10% of all mammograms are false positive\n",
    "    - Prior to any testing dr assign patient having breast cancer a probability 0.017. This is prior. If mammogram yield positive result what is the probability that patient have a cancer. Meaning P(breast cancer|+ve)\n",
    "![Example](images/breast_cancer1.jpg)\n",
    "    \n",
    "    - What is the probability of having breast cancer if second mammogram is also positive?\n",
    "    \n",
    "![Example](images/breast_cancer2.jpg)"
   ]
  },
  {
   "cell_type": "markdown",
   "metadata": {},
   "source": [
    "* P(BC | +ve) = 0.0936 / (0.0936 + 0.088)"
   ]
  },
  {
   "cell_type": "markdown",
   "metadata": {},
   "source": [
    "##  Random Variable\n",
    "* Two books are for statistics class. 20% student buy None of those. 55 % students buy 1 book, 25 % students buy both books. There are total 100 students.\n",
    "* Variable or process with numeric outcome is called random variable. It is represented by X, Y, Z etc. Amount of money single student spend on statistic book is Random variable. \n",
    "* Possible outcome of X random variable is shown by $x_i$. Ex $x_1$ = 0, $x_2$ = 137, $x_3$ = 170, which occur with probability 0.20, 0.55, 0.25.\n",
    "### Probability distribution of random variable\n",
    "\n",
    "| i | 1 | 2 | 3 | Total |\n",
    "|---|---|---|---|-------|\n",
    "| $x_i$ | 0 | 137 |170|-|\n",
    "| p(X = $x_i$)| 0.20 | 0.55 | 0.25 | 1.0 |"
   ]
  },
  {
   "cell_type": "markdown",
   "metadata": {},
   "source": [
    "### Expected Value \n",
    "* Average amount of X, denoted by E(X). Expected value of random variable is computed by adding each outcome weighted by its probability.\n",
    "\n",
    "* E(X) = 0 * P(X = 0) + 137 * P(X = 137) + 170 * P(X = 170) = 0 * 0.20 + 137 * 0.55 + 170 * 0.25 = 117.85\n",
    "* It is also denoted by $\\mu$\n",
    "* It represents average outcome\n",
    "![Expected value](images/expected_value.jpg)\n",
    "\n",
    "* This is average amount book store makes per student of statistics class.\n",
    "\n",
    "### Variability in random variables\n",
    "* Variance and standard deviation is useful to describe variability in random variable\n",
    "* First compute $(x_i - \\mu)^2$ and multiply by their corresponding probability. This weighted sum of squared deviation is called variance, Taking square root gives standard deviation. \n",
    "\n",
    "![variance and standard deviation Random variable](images/random_variable_variance.jpg)\n",
    "\n",
    "### Linear combination of random variable\n",
    "* Variance of linear combination of random variable can be computed by plugging in variance of individual random variable and squaring coeffcients of random variable.\n",
    "\n",
    "$$variance(aX + bX) = a^2 * Var(X) + b^2 * Var(Y)$$"
   ]
  },
  {
   "cell_type": "markdown",
   "metadata": {},
   "source": [
    "## Continuous Distribution"
   ]
  }
 ],
 "metadata": {
  "kernelspec": {
   "display_name": "Python 3",
   "language": "python",
   "name": "python3"
  },
  "language_info": {
   "codemirror_mode": {
    "name": "ipython",
    "version": 3
   },
   "file_extension": ".py",
   "mimetype": "text/x-python",
   "name": "python",
   "nbconvert_exporter": "python",
   "pygments_lexer": "ipython3",
   "version": "3.6.5"
  }
 },
 "nbformat": 4,
 "nbformat_minor": 2
}
