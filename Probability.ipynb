{
 "cells": [
  {
   "cell_type": "markdown",
   "metadata": {},
   "source": [
    "* Probability is used to describe randomness. Measure uncertainty. Chance of event.\n",
    "* Random process: We know what outcome could happen, but do not know which particular outcome will happen? Ex. coin toss, die roll, shuffle music\n",
    "* P(A) is probability of event A.\n",
    "* Probability must be between 0 and 1 (inclusive)\n",
    "* Probability means likelihood or chance of particular event taking place. Event is outcome of experiment. Experiment is a process that is performed to understand and observe possible outcomes. Set of all outcomes of an experiment is called sample space.\n",
    "* Random experiment is an experiment with uncertain outcome. (Ex. tossing coin)\n",
    "\n",
    "#### Frequentist interpretation of probability\n",
    "* The probability of an outcome is the proportion of times the outcome would occur if we observed the random process infinite number of times.\n",
    "\n",
    "#### Bayesian interpretation\n",
    "* A bayesian interprets probability as a subjective degree of belief. For the same event 2 different people has different belief so they can assign different probability.\n",
    "\n",
    "#### Law of large numbers\n",
    "* As more observations are collected, the proportion of occurrences with a particular outcome converges to the true probability of that outcome.\n",
    "\n",
    "#### Gambler's fallacy (Law of averages)\n",
    "* Random process is suppose to compancate whatever happened in past. This is wrong\n",
    "* Misunderstanding of law of large number.\n",
    "\n",
    "### Disjoint(Mutually exclusive) events\n",
    "* Events that can not happen at the same time.\n",
    "* Outcome of single coin toss can not be both head and tail.\n",
    "* Student can not fail and pass a task\n",
    "![Disjoint](images/disjoint.JPG)\n",
    "\n",
    "### Non-disjoint event\n",
    "* Events can happen at the same time. Student get grade A in maths and programming\n",
    "![Non Disjoint](images/non_disjoint.JPG)\n",
    "\n",
    "### Collectively Exhaustive events\n",
    "* 1 of the events must occur\n",
    "* The set of events covers the entire sample space.\n",
    "* Ex. randomly chosen day from 2018.\n",
    "    - A = weekday, B = weekend, C = January, D = Spring\n",
    "    - A,B,C,D are collectively exhaustive but not mutually exclusive\n",
    "    - A and B are collectively exhaustive and also mutually exclusive"
   ]
  },
  {
   "cell_type": "markdown",
   "metadata": {},
   "source": [
    "### Union of disjoint event\n",
    "* What is the probability of drawing a jack OR a 3 from well shuffled deck of cards?\n",
    "    - P(J or 3) = P(J) + P(3) = $\\frac{4}{52} + \\frac{4}{52} = \\frac{8}{52} = 0.154$\n",
    "* For disjoint event A and B, \n",
    "$$P(A\\ or\\ B) = P(A) + P(B)$$"
   ]
  },
  {
   "cell_type": "markdown",
   "metadata": {},
   "source": [
    "### Union of non-disjoint event\n",
    "* Probability of jack or a red card from well shuffled deck of cards\n",
    "    - P(J or red) = P(J) + P(Red) - P(J and Red) = $\\frac{4}{52} + \\frac{26}{52} - \\frac{2}{52} = \\frac{28}{52} = 0.538$\n",
    "* For non disjoint event A and B,\n",
    "$$ P(A\\ or\\ B) = P(A) + P(B) - P(A\\ and\\ B) $$"
   ]
  },
  {
   "cell_type": "code",
   "execution_count": 36,
   "metadata": {},
   "outputs": [],
   "source": [
    "import numpy as np"
   ]
  },
  {
   "cell_type": "markdown",
   "metadata": {},
   "source": [
    "**Please note again that we are using 0 to represent heads, and 1 to represent tails.**"
   ]
  },
  {
   "cell_type": "markdown",
   "metadata": {},
   "source": [
    "####  Two fair coin flips produce exactly two heads"
   ]
  },
  {
   "cell_type": "code",
   "execution_count": 37,
   "metadata": {},
   "outputs": [
    {
     "data": {
      "text/plain": [
       "0.250564"
      ]
     },
     "execution_count": 37,
     "metadata": {},
     "output_type": "execute_result"
    }
   ],
   "source": [
    "tests = np.random.randint(2, size=(int(1e6), 2))\n",
    "test_sums = tests.sum(axis=1)\n",
    "(test_sums == 0).mean()"
   ]
  },
  {
   "cell_type": "markdown",
   "metadata": {},
   "source": [
    "#### Three fair coin flips produce exactly one head"
   ]
  },
  {
   "cell_type": "code",
   "execution_count": 38,
   "metadata": {},
   "outputs": [
    {
     "data": {
      "text/plain": [
       "0.374987"
      ]
     },
     "execution_count": 38,
     "metadata": {},
     "output_type": "execute_result"
    }
   ],
   "source": [
    "tests = np.random.randint(2, size=(int(1e6), 3))\n",
    "test_sums = tests.sum(axis=1)\n",
    "(test_sums == 2).mean()"
   ]
  },
  {
   "cell_type": "markdown",
   "metadata": {},
   "source": [
    "#### Three biased coin flips with P(H) = 0.6 produce exactly one head"
   ]
  },
  {
   "cell_type": "code",
   "execution_count": 39,
   "metadata": {},
   "outputs": [
    {
     "data": {
      "text/plain": [
       "0.288194"
      ]
     },
     "execution_count": 39,
     "metadata": {},
     "output_type": "execute_result"
    }
   ],
   "source": [
    "tests = np.random.choice([0,1], p=[0.6,0.4], size=(int(1e6), 3))\n",
    "test_sums = tests.sum(axis=1)\n",
    "(test_sums==2).mean()"
   ]
  },
  {
   "cell_type": "markdown",
   "metadata": {},
   "source": [
    "#### A die rolls an even number"
   ]
  },
  {
   "cell_type": "code",
   "execution_count": 40,
   "metadata": {},
   "outputs": [
    {
     "data": {
      "text/plain": [
       "0.500012"
      ]
     },
     "execution_count": 40,
     "metadata": {},
     "output_type": "execute_result"
    }
   ],
   "source": [
    "tests = np.random.randint(1, 7, size=(int(1e6)))\n",
    "\n",
    "# proportion of tests that produced an even number\n",
    "(tests % 2 == 0).mean()"
   ]
  },
  {
   "cell_type": "markdown",
   "metadata": {},
   "source": [
    "#### Two dice roll a double"
   ]
  },
  {
   "cell_type": "code",
   "execution_count": 41,
   "metadata": {},
   "outputs": [
    {
     "data": {
      "text/plain": [
       "0.167436"
      ]
     },
     "execution_count": 41,
     "metadata": {},
     "output_type": "execute_result"
    }
   ],
   "source": [
    "first = np.random.randint(1, 7, size=(int(1e6)))\n",
    "\n",
    "# simulate the second million die rolls\n",
    "second = np.random.randint(1, 7, size=(int(1e6)))\n",
    "\n",
    "# proportion of tests where the 1st and 2nd die rolled the same number\n",
    "(first == second).mean()"
   ]
  },
  {
   "cell_type": "markdown",
   "metadata": {},
   "source": [
    "### Sample space\n",
    "* Collection of all possible outcome of a trial.\n",
    "* Couple has a 2 kids, what is the sample space of sex of 2 kids?\n",
    "    - S = {MM, FF, MF, FM}\n",
    "\n",
    "### Probability Distribution\n",
    "* Lists all possible outcomes in the sample space and probability with which they occur.\n",
    "* Rules\n",
    "    - Event listed must be disjoint\n",
    "    - Each probability must be between 0 and 1\n",
    "    - The sum of all probabilities must be total 1.\n",
    "![Probability Distribution](images/probability_distribution.JPG)"
   ]
  },
  {
   "cell_type": "markdown",
   "metadata": {},
   "source": [
    "### Complementary events\n",
    "* Two disjoint events whose probabilities adds up to 1.\n",
    "* Tossing one coin, head and tail are complementary events.\n",
    "* Complementary event are always disjoint but opposite is NOT true."
   ]
  },
  {
   "cell_type": "markdown",
   "metadata": {},
   "source": [
    "![](images/marginal_and_joint.PNG)"
   ]
  },
  {
   "cell_type": "markdown",
   "metadata": {},
   "source": [
    "### Independence\n",
    "* 2 processes are independent if knowing the outcome of one provides NO useful info about outcome of other.\n",
    "* Knowing 1st coin toss resulted in Head, does not provides any information about result of second. Meaning 2 coin toss are independent.\n",
    "* Knowing 1st card draw is ace red, provide information about 2nd card draw if done without replacement.\n",
    "* Rules for checking for independence\n",
    "    - P(A | B) = P(A), then A and B are independent. Meaning knowing B tells us nothing about A.\n",
    "* Ex. Having gun protect good citizens. 58% of all respondents say yes, 67% of whilte, 28% black, 64% of hispanic say yes.\n",
    "    - P(Protect citizen) = 0.58\n",
    "    - P(Protect citizen | white) = 0.67\n",
    "    - P(Protect citizen | Black) = 0.28\n",
    "    - P(Protect citizen | Hispanic) = 0.64\n",
    "* Belief and ethnicity is dependent.\n",
    "![Determining dependence](images/dependence.PNG)\n",
    "* If A and B are independent P(A and B) = P(A) X P(B)\n",
    "* Toss a coin twice what is the probability of getting 2 tails in row?\n",
    "    - P(Tail on 1st toss) * P(Tail in second) = 0.5 * 0.5 = 0.25 \n",
    "* Disjoint events are always dependent. As we know that if one happens other can not happen."
   ]
  },
  {
   "cell_type": "markdown",
   "metadata": {},
   "source": [
    "### Conditional Probability\n",
    "* Sometimes there is a relation between 2 events, Ex. Parents has college degree. What is the chance of student to get into college?\n",
    "* 48 working class, 50 upper middle class students\n",
    "* First student is assigned to social class based on their self reported measures like income, education.\n",
    "* Student are asked series of questions to determine \"Subjective\" association to social class. This is the social class student think they belong to.\n",
    "![conditional](images/conditional.JPG)\n"
   ]
  },
  {
   "cell_type": "markdown",
   "metadata": {},
   "source": [
    "#### Marginal Probability\n",
    "* What is the probability that a student's objective social class position is upper middle class?\n",
    "    - 50/98 = 0.51 = P(objective UMC)\n",
    "* Why marginal, as count we use to calculate probability comes from margin(outer layer) of contingency table.\n",
    "* Probability based on single variable.\n",
    "\n",
    "### Joint probability\n",
    "* Probability of an occurrence of 2 or more events (Joint event) \n",
    "* What is the probability that objective and subjective identity are both upper middle class?\n",
    "    - 37 / 98 = 0.38 = P(obj UMC and Sub UMC)\n",
    "* Probability outcome of 2 or more variable.\n",
    "\n",
    "### Conditional probability\n",
    "* We are computing probability under condition.\n",
    "* probability of student who is objectively in the working class but associates with upper middle class?\n",
    "    - 8 / 48 = 0.17 P(subjective UMC|obj wc)\n",
    "    * We first conditioned on working class of objective and Only from that column we check subjective UMC.\n",
    "\n",
    "#### Bayes' theorem\n",
    "* Way to reverse conditional probability.\n",
    "$$P(A | B) = \\frac{P(A\\ and\\ B)}{P(B)}$$\n",
    "- Joint probability in numerator divided by whatever we are conditioned on.\n",
    "- Ex. 14.6 % American live below poverty line. 20.7% speak a language other than English at home. 4.2% falls in both categories. What % of American live below poverty and speak other than English.\n",
    "    - P(below poverty | other than English) = $\\frac{0.042}{0.207}$ = 0.2\n",
    "- What % of people who are below poverty also speak language other than English\n",
    "    - P(other than English | below poverty) = 0.042/0.146 = 0.29"
   ]
  },
  {
   "cell_type": "markdown",
   "metadata": {},
   "source": [
    "* Earlier we saw that if A and B are independent than Joint probability of them meaning P(A and B) = P(A)*P(B)\n",
    "* But what if we can not guarantee independence?\n",
    "    - As per bayes' theorem,\n",
    "    $$P(A\\ and\\ B) = P(A | B) * P(B)$$\n",
    "    - This is called General Product Rule."
   ]
  },
  {
   "cell_type": "markdown",
   "metadata": {},
   "source": [
    "![conditional Example](images/example.JPG)"
   ]
  },
  {
   "cell_type": "markdown",
   "metadata": {},
   "source": [
    "* P(SS) = 60 / 100 = 0.6\n",
    "* P(SS|F) = 30/50 = 0.6\n",
    "* P(SS|M) = 30/50 = 0.6\n",
    "* Here P(SS|F) = P(SS) so independent events"
   ]
  },
  {
   "cell_type": "markdown",
   "metadata": {},
   "source": [
    "* 70% car have AC, 40% have GPS, 20% has both, What is probability that car has GPS given it has AC\n",
    "\n",
    "$$P(GPS | AC) = \\frac{P(gps\\ and\\ AC)}{P(AC)}$$ = 0.2 / 0.7 "
   ]
  },
  {
   "cell_type": "markdown",
   "metadata": {},
   "source": [
    "* P(B) is prior, P(B|A) is called posterior.\n",
    "* 40% chance of getting oil from new well. Historically 60% of successful well have had detailed test. and 20% of unsuccessful well have had detailed test. Given that well has been scheduled for detailed test what is probability that the well will be successful\n",
    "\n",
    "$$P(success | detailed\\ test) = \\frac{P(success\\ and\\ detailed\\ test)}{P(detailed\\ test)}$$\n",
    "\n",
    "$$= \\frac{P(D|S)P(S)}{P(D|S)*P(S) + P(D|U)*P(U)}$$\n",
    "$$=\\frac{0.6*0.4}{0.6*0.4  +  0.2*0.6} = 0.667$$"
   ]
  },
  {
   "cell_type": "markdown",
   "metadata": {},
   "source": [
    "#### Sum of conditional probability\n",
    "* Let A1, A2, ..., Ak represent all the disjoint outcomes for a variable or process. Then if B is an event, for another process or variable, then \n",
    "$$P(A1|B) + ... + P(Ak|B) = 1$$\n",
    "* When event and its complement conditioned on same info\n",
    "$$P(A|B) = 1 - P(A^c|B)$$"
   ]
  },
  {
   "cell_type": "markdown",
   "metadata": {},
   "source": [
    "### Probability Tree\n",
    "* When asked condition is reversed than given use tree diagram to find conditional probability. Useful when asked second conditional probability and given first.\n",
    "* 100 total email, 60 spam, 40 are not. Out of 60 spam, 35 contains word \"free\". Of rest 3 contains word \"free\". If email contains word free, What is the probability that email is spam?\n",
    "![Tree Example](images/tree1.JPG)\n",
    "    \n",
    "    - $P(Spam\\ |\\ Free) = \\frac{P(Spam\\ and free)}{P(Free)} = \\frac{35}{35 + 3} = \\frac{35}{38}$\n",
    "    \n",
    "* Probability on same level always add up to 1.\n",
    "* 25.9% population has HIV. ELISA test is 99.7% accurate for positive and 92.6% accurate for negative. If individual tested positive, what is the probability that he has HIV\n",
    "    - P(HIV) = 0.259\n",
    "    - p(+ | HIV) = 0.997\n",
    "    - P(- | NO HIV) = 0.926\n",
    "    - Find P(HIV | positive)\n",
    "![Tree Example](images/tree2.JPG)"
   ]
  },
  {
   "cell_type": "markdown",
   "metadata": {},
   "source": [
    "### Bayesian inference\n",
    "* Useful when 2 or more process executed in sequence, and each process is conditioned on predecessor\n",
    "* In one hand 6-sided die, other hand 12-sided. Game is to guess which hand holding which die.\n",
    "* Probability of rolling >=4 with 6-sided die = 1/2\n",
    "* Probability of rolling >=4 with 12-sided die = 9/12 = 3/4\n",
    "* We are playing a game where goal is to roll >=4, of course we will pickup 12-sided die. So 12-sided die is \"good die\". SO our goal is to find which hand has good die.\n",
    "* Our prior probability of good die on the right and bad die is on left is 50%. good die on left, bad die on right is 50%.\n",
    "* Round 1\n",
    "    - I picked right hand, roll result is >=4\n",
    "![Example](images/bayesian_6_12.JPG)"
   ]
  },
  {
   "cell_type": "markdown",
   "metadata": {},
   "source": [
    "* Probability we calculated is called posterior probability. P(good die on right | rolled number >= 4). Posterior probability is defined as P(Hypothesis | Data)\n",
    "* It tells probability of hypothesis we set forth given the data we just observed. It depends on both prior probability and observed data.\n",
    "* It is different than p-value which is P(data | hypothesis) meaning probability of observed or more extreme data given null hypothesis is true.\n",
    "* Updating prior\n",
    "    * In the bayesian approach we evaluate claim iteratively as we collects more data\n",
    "    * In next iteration we get to take advantage of what we learned in previous iteration.\n",
    "    * We update our prior with posterior probability from previous iteration.\n",
    "    * P(Good die on right) = 0.6 = Hypothesis 1\n",
    "    * P(Good die on left) = 0.4 = Hypothesis 2\n",
    "    * Good priors helps, but bad priors hurts. Prior matters less the more data we have.\n",
    "* Example: 1.7% women have breast cancer. Mammography identify 78% women who truly have breast cancer. 10% of all mammograms are false positive\n",
    "    - Prior to any testing dr assign patient having breast cancer a probability 0.017. This is prior. If mammogram yield positive result what is the probability that patient have a cancer. Meaning P(breast cancer|+ve)\n",
    "![Example](images/breast_cancer1.JPG)\n",
    "    \n",
    "    - What is the probability of having breast cancer if second mammogram is also positive?\n",
    "    \n",
    "![Example](images/breast_cancer2.JPG)"
   ]
  },
  {
   "cell_type": "markdown",
   "metadata": {},
   "source": [
    "* P(BC | +ve) = 0.0936 / (0.0936 + 0.088) = 0.52"
   ]
  },
  {
   "cell_type": "markdown",
   "metadata": {},
   "source": [
    "* In self driving car, system want to know where it is. Using gps it can have accuracy of 5 m. System gather data from sensor like camera, LIDAR, RADAR based on it we localize location, using sensor and initial gps data we can correct our measurement."
   ]
  },
  {
   "cell_type": "markdown",
   "metadata": {},
   "source": [
    "* Example: Certain disease affects 1 in every 10000 people. Positive Test for this disease is correct for 99% of time, What does positive test means.\n",
    "* What is P(D | Positive Test)?\n",
    "* I have provided, P(Positive T | D) = 0.99\n",
    "* P(D) = 1 / 10000 = 0.0001\n",
    "* P(Positive test | No disease) = 0.01\n",
    "* P (No disease) = 0.9999\n",
    "\n",
    "$$P(D | T) = \\frac{P(T and D)}{P(T)} = \\frac{P(T|D)P(D)}{P(T)}  = \\frac{P(T|D)P(D)}{P(T|D)P(D) + P(T | No\\ D)P(No\\ D)} = 0.98$$\n",
    "\n",
    "* That is less than 1 % people who test positive have the disease.\n",
    "* There are 1 million people, 100 out of them has disease and 99 of those 100 to test positive. 999900 have no disease and 9999 of them test positive. 99 out of (99 + 9999) positive testers have disease."
   ]
  },
  {
   "cell_type": "markdown",
   "metadata": {},
   "source": [
    "### Total probability law\n",
    "* Sample space or possible outcome can be broken in non overlapping part.\n",
    "* P(Face card) = P(club and face) + P(Spade and face) + P(Heart and face) + P(Diamond and face)\n",
    "* We buy part from Vendor v1, v2, v3. We can 50% part from v1, 25% from v2 and 25% from v3\n",
    "* P(D) = P(v1 and D) + P(v2 and D) + P(v3 and D) = P(v1)P(D|v1) + P(v2)P(D|v2) + P(v3)P(D|v3)"
   ]
  },
  {
   "cell_type": "code",
   "execution_count": 42,
   "metadata": {},
   "outputs": [],
   "source": [
    "import pandas as pd\n",
    "import numpy as np\n",
    "df = pd.read_csv(\"cancer_test_data.csv\")"
   ]
  },
  {
   "cell_type": "code",
   "execution_count": 43,
   "metadata": {},
   "outputs": [
    {
     "data": {
      "text/plain": [
       "(2914, 3)"
      ]
     },
     "execution_count": 43,
     "metadata": {},
     "output_type": "execute_result"
    }
   ],
   "source": [
    "df.shape"
   ]
  },
  {
   "cell_type": "code",
   "execution_count": 44,
   "metadata": {},
   "outputs": [
    {
     "data": {
      "text/html": [
       "<div>\n",
       "<style scoped>\n",
       "    .dataframe tbody tr th:only-of-type {\n",
       "        vertical-align: middle;\n",
       "    }\n",
       "\n",
       "    .dataframe tbody tr th {\n",
       "        vertical-align: top;\n",
       "    }\n",
       "\n",
       "    .dataframe thead th {\n",
       "        text-align: right;\n",
       "    }\n",
       "</style>\n",
       "<table border=\"1\" class=\"dataframe\">\n",
       "  <thead>\n",
       "    <tr style=\"text-align: right;\">\n",
       "      <th></th>\n",
       "      <th>patient_id</th>\n",
       "      <th>test_result</th>\n",
       "      <th>has_cancer</th>\n",
       "    </tr>\n",
       "  </thead>\n",
       "  <tbody>\n",
       "    <tr>\n",
       "      <th>0</th>\n",
       "      <td>79452</td>\n",
       "      <td>Negative</td>\n",
       "      <td>False</td>\n",
       "    </tr>\n",
       "    <tr>\n",
       "      <th>1</th>\n",
       "      <td>81667</td>\n",
       "      <td>Positive</td>\n",
       "      <td>True</td>\n",
       "    </tr>\n",
       "    <tr>\n",
       "      <th>2</th>\n",
       "      <td>76297</td>\n",
       "      <td>Negative</td>\n",
       "      <td>False</td>\n",
       "    </tr>\n",
       "    <tr>\n",
       "      <th>3</th>\n",
       "      <td>36593</td>\n",
       "      <td>Negative</td>\n",
       "      <td>False</td>\n",
       "    </tr>\n",
       "    <tr>\n",
       "      <th>4</th>\n",
       "      <td>53717</td>\n",
       "      <td>Negative</td>\n",
       "      <td>False</td>\n",
       "    </tr>\n",
       "  </tbody>\n",
       "</table>\n",
       "</div>"
      ],
      "text/plain": [
       "   patient_id test_result  has_cancer\n",
       "0       79452    Negative       False\n",
       "1       81667    Positive        True\n",
       "2       76297    Negative       False\n",
       "3       36593    Negative       False\n",
       "4       53717    Negative       False"
      ]
     },
     "execution_count": 44,
     "metadata": {},
     "output_type": "execute_result"
    }
   ],
   "source": [
    "df.head()"
   ]
  },
  {
   "cell_type": "code",
   "execution_count": 45,
   "metadata": {},
   "outputs": [
    {
     "data": {
      "text/plain": [
       "2914"
      ]
     },
     "execution_count": 45,
     "metadata": {},
     "output_type": "execute_result"
    }
   ],
   "source": [
    "# number of patients\n",
    "total_patients = df.shape[0]\n",
    "total_patients"
   ]
  },
  {
   "cell_type": "code",
   "execution_count": 46,
   "metadata": {},
   "outputs": [
    {
     "data": {
      "text/plain": [
       "306"
      ]
     },
     "execution_count": 46,
     "metadata": {},
     "output_type": "execute_result"
    }
   ],
   "source": [
    "# number of patients with cancer\n",
    "total_cancer_patient = sum(df.has_cancer)\n",
    "total_cancer_patient"
   ]
  },
  {
   "cell_type": "code",
   "execution_count": 47,
   "metadata": {},
   "outputs": [
    {
     "data": {
      "text/plain": [
       "2608"
      ]
     },
     "execution_count": 47,
     "metadata": {},
     "output_type": "execute_result"
    }
   ],
   "source": [
    "# number of patients without cancer\n",
    "total_non_cancer_patient = total_patients - total_cancer_patient\n",
    "total_non_cancer_patient"
   ]
  },
  {
   "cell_type": "code",
   "execution_count": 48,
   "metadata": {},
   "outputs": [
    {
     "data": {
      "text/plain": [
       "0.10501029512697323"
      ]
     },
     "execution_count": 48,
     "metadata": {},
     "output_type": "execute_result"
    }
   ],
   "source": [
    "# proportion of patients with cancer\n",
    "prop_cancer = total_cancer_patient/total_patients\n",
    "prop_cancer"
   ]
  },
  {
   "cell_type": "code",
   "execution_count": 49,
   "metadata": {},
   "outputs": [
    {
     "data": {
      "text/plain": [
       "0.8949897048730268"
      ]
     },
     "execution_count": 49,
     "metadata": {},
     "output_type": "execute_result"
    }
   ],
   "source": [
    "# proportion of patients without cancer\n",
    "prop_non_cancer = total_non_cancer_patient/total_patients\n",
    "prop_non_cancer"
   ]
  },
  {
   "cell_type": "code",
   "execution_count": 50,
   "metadata": {},
   "outputs": [
    {
     "data": {
      "text/plain": [
       "0.9052287581699346"
      ]
     },
     "execution_count": 50,
     "metadata": {},
     "output_type": "execute_result"
    }
   ],
   "source": [
    "# proportion of patients with cancer who test positive\n",
    "prop_cancer_pos = df[(df.has_cancer) & (df.test_result == 'Positive')].shape[0] / total_cancer_patient\n",
    "prop_cancer_pos"
   ]
  },
  {
   "cell_type": "code",
   "execution_count": 51,
   "metadata": {},
   "outputs": [
    {
     "data": {
      "text/plain": [
       "0.09477124183006536"
      ]
     },
     "execution_count": 51,
     "metadata": {},
     "output_type": "execute_result"
    }
   ],
   "source": [
    "# proportion of patients with cancer who test negative\n",
    "prop_cancer_neg = df[(df.has_cancer) & (df.test_result == 'Negative')].shape[0] / total_cancer_patient\n",
    "prop_cancer_neg"
   ]
  },
  {
   "cell_type": "code",
   "execution_count": 52,
   "metadata": {},
   "outputs": [
    {
     "data": {
      "text/plain": [
       "0.2036042944785276"
      ]
     },
     "execution_count": 52,
     "metadata": {},
     "output_type": "execute_result"
    }
   ],
   "source": [
    "# proportion of patients without cancer who test positive\n",
    "prop_non_cancer_pos = df[(~df.has_cancer) & (df.test_result == 'Positive')].shape[0] / total_non_cancer_patient\n",
    "prop_non_cancer_pos"
   ]
  },
  {
   "cell_type": "code",
   "execution_count": 53,
   "metadata": {},
   "outputs": [
    {
     "data": {
      "text/plain": [
       "0.7963957055214724"
      ]
     },
     "execution_count": 53,
     "metadata": {},
     "output_type": "execute_result"
    }
   ],
   "source": [
    "# proportion of patients without cancer who test negative\n",
    "prop_non_cancer_neg = df[(~df.has_cancer) & (df.test_result == 'Negative')].shape[0] / total_non_cancer_patient\n",
    "prop_non_cancer_neg"
   ]
  },
  {
   "cell_type": "code",
   "execution_count": 65,
   "metadata": {},
   "outputs": [
    {
     "data": {
      "text/plain": [
       "0"
      ]
     },
     "execution_count": 65,
     "metadata": {},
     "output_type": "execute_result"
    }
   ],
   "source": [
    "np.random.choice([0, 1]) # by default equal probability"
   ]
  },
  {
   "cell_type": "code",
   "execution_count": 75,
   "metadata": {},
   "outputs": [
    {
     "data": {
      "text/plain": [
       "0"
      ]
     },
     "execution_count": 75,
     "metadata": {},
     "output_type": "execute_result"
    }
   ],
   "source": [
    "np.random.choice([0, 1], p =[0.8,0.2]) # Biased coin flip"
   ]
  },
  {
   "cell_type": "markdown",
   "metadata": {},
   "source": [
    "#### 3 coin flips produce exactly 1 head"
   ]
  },
  {
   "cell_type": "code",
   "execution_count": 76,
   "metadata": {},
   "outputs": [],
   "source": [
    "tests = np.random.randint(2, size = (int(1e6), 2))"
   ]
  },
  {
   "cell_type": "code",
   "execution_count": 77,
   "metadata": {},
   "outputs": [],
   "source": [
    "test_sums = tests.sum(axis=1)"
   ]
  },
  {
   "cell_type": "code",
   "execution_count": 78,
   "metadata": {},
   "outputs": [
    {
     "data": {
      "text/plain": [
       "0.249883"
      ]
     },
     "execution_count": 78,
     "metadata": {},
     "output_type": "execute_result"
    }
   ],
   "source": [
    "(test_sums == 2).mean()"
   ]
  },
  {
   "cell_type": "markdown",
   "metadata": {},
   "source": [
    "##  Random Variable\n",
    "* Two books are for statistics class. 20% student buy None of those. 55 % students buy 1 book, 25 % students buy both books. There are total 100 students.\n",
    "* Variable or process with numeric outcome is called random variable. It is represented by X, Y, Z etc. Amount of money single student spend on statistic book is Random variable. \n",
    "* Possible outcome of X random variable is shown by $x_i$. Ex $x_1$ = 0, $x_2$ = 137, $x_3$ = 170, which occur with probability 0.20, 0.55, 0.25.\n",
    "### Probability distribution of random variable\n",
    "\n",
    "| i | 1 | 2 | 3 | Total |\n",
    "|---|---|---|---|-------|\n",
    "| $x_i$ | 0 | 137 |170|-|\n",
    "| p(X = $x_i$)| 0.20 | 0.55 | 0.25 | 1.0 |"
   ]
  },
  {
   "cell_type": "markdown",
   "metadata": {},
   "source": [
    "### Expected Value \n",
    "* Average amount of X, denoted by E(X). Expected value of random variable is computed by adding each outcome weighted by its probability.\n",
    "\n",
    "* E(X) = 0 * P(X = 0) + 137 * P(X = 137) + 170 * P(X = 170) = 0 * 0.20 + 137 * 0.55 + 170 * 0.25 = 117.85\n",
    "* It is also denoted by $\\mu$\n",
    "* It represents average outcome\n",
    "![Expected value](images/expected_value.JPG)\n",
    "\n",
    "* This is average amount book store makes per student of statistics class.\n",
    "\n",
    "### Variability in random variables\n",
    "* Variance and standard deviation is useful to describe variability in random variable\n",
    "* First compute $(x_i - \\mu)^2$ and multiply by their corresponding probability. This weighted sum of squared deviation is called variance, Taking square root gives standard deviation. \n",
    "\n",
    "![variance and standard deviation Random variable](images/random_variable_variance.JPG)\n",
    "\n",
    "### Linear combination of random variable\n",
    "* Variance of linear combination of random variable can be computed by plugging in variance of individual random variable and squaring coeffcients of random variable.\n",
    "\n",
    "$$variance(aX + bY) = a^2 * Var(X) + b^2 * Var(Y)$$"
   ]
  },
  {
   "cell_type": "markdown",
   "metadata": {},
   "source": [
    "## Continuous Distribution"
   ]
  },
  {
   "cell_type": "markdown",
   "metadata": {},
   "source": [
    "### Law of large number demonstration"
   ]
  },
  {
   "cell_type": "code",
   "execution_count": 54,
   "metadata": {},
   "outputs": [
    {
     "data": {
      "image/png": "[encoded data removed]",
      "text/plain": [
       "<Figure size 432x288 with 1 Axes>"
      ]
     },
     "metadata": {
      "needs_background": "light"
     },
     "output_type": "display_data"
    }
   ],
   "source": [
    "import numpy as np\n",
    "import matplotlib.pyplot as plt\n",
    "\n",
    "%matplotlib inline\n",
    "np.random.seed(42)\n",
    "\n",
    "# This is just setting up some random data in pop_data\n",
    "# The functionality of the gamma distribution is not relevant \n",
    "# for this class.\n",
    "pop_data = np.random.gamma(1,100,3000)\n",
    "plt.hist(pop_data);"
   ]
  },
  {
   "cell_type": "code",
   "execution_count": 55,
   "metadata": {},
   "outputs": [
    {
     "data": {
      "text/plain": [
       "(3000,)"
      ]
     },
     "execution_count": 55,
     "metadata": {},
     "output_type": "execute_result"
    }
   ],
   "source": [
    "pop_data.shape"
   ]
  },
  {
   "cell_type": "code",
   "execution_count": 56,
   "metadata": {},
   "outputs": [
    {
     "data": {
      "text/plain": [
       "100.35978700795846"
      ]
     },
     "execution_count": 56,
     "metadata": {},
     "output_type": "execute_result"
    }
   ],
   "source": [
    "pop_data.mean()  # population mean"
   ]
  },
  {
   "cell_type": "code",
   "execution_count": 57,
   "metadata": {},
   "outputs": [
    {
     "data": {
      "text/plain": [
       "27.685829640608965"
      ]
     },
     "execution_count": 57,
     "metadata": {},
     "output_type": "execute_result"
    }
   ],
   "source": [
    "np.random.choice(pop_data, 5).mean()"
   ]
  },
  {
   "cell_type": "code",
   "execution_count": 58,
   "metadata": {},
   "outputs": [
    {
     "data": {
      "text/plain": [
       "163.3701520126447"
      ]
     },
     "execution_count": 58,
     "metadata": {},
     "output_type": "execute_result"
    }
   ],
   "source": [
    "np.random.choice(pop_data, 20).mean()"
   ]
  },
  {
   "cell_type": "code",
   "execution_count": 59,
   "metadata": {},
   "outputs": [
    {
     "data": {
      "text/plain": [
       "119.55076984115861"
      ]
     },
     "execution_count": 59,
     "metadata": {},
     "output_type": "execute_result"
    }
   ],
   "source": [
    "np.random.choice(pop_data, 100).mean()"
   ]
  },
  {
   "cell_type": "markdown",
   "metadata": {},
   "source": [
    "* Larger the sample size, more close the mean to populaiton mean"
   ]
  },
  {
   "cell_type": "markdown",
   "metadata": {},
   "source": [
    "### Counting rules\n",
    "* Count number of possible outcome if any one of k different mutually exclusive event can occur on each of N trials, number of possible outcome of k? $k^N$\n",
    "* Roll die for 3 times, different outcome is 6^3\n",
    "* If k1 event on 1st, k2 in 2nd and k3 in 3rd, number of possible outcome is (k1)(k2)(k3). Number of way to go ti restaurant is 3, 4 different dish and 6 dessert. 3\\*4\\*6 = 72 possible"
   ]
  },
  {
   "cell_type": "markdown",
   "metadata": {},
   "source": [
    "* Number of ways N items can be arranged N!"
   ]
  },
  {
   "cell_type": "markdown",
   "metadata": {},
   "source": [
    "#### Permutation\n",
    "* Number of ways of arranging k objects selected from n observation = $\\frac{n!}{(n-k)!}$"
   ]
  },
  {
   "cell_type": "markdown",
   "metadata": {},
   "source": [
    "#### Combination\n",
    "* Number of way to select k object out of N = $\\frac{n!}{k!(n-k)!}$"
   ]
  },
  {
   "cell_type": "markdown",
   "metadata": {},
   "source": [
    "### Conjuctive probability\n",
    "* Probability of sequence of events, probability of 5 heads in row for 5 coin flips."
   ]
  },
  {
   "cell_type": "code",
   "execution_count": null,
   "metadata": {},
   "outputs": [],
   "source": []
  }
 ],
 "metadata": {
  "kernelspec": {
   "display_name": "Python 3",
   "language": "python",
   "name": "python3"
  },
  "language_info": {
   "codemirror_mode": {
    "name": "ipython",
    "version": 3
   },
   "file_extension": ".py",
   "mimetype": "text/x-python",
   "name": "python",
   "nbconvert_exporter": "python",
   "pygments_lexer": "ipython3",
   "version": "3.7.1"
  }
 },
 "nbformat": 4,
 "nbformat_minor": 2
}
