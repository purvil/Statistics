{
 "cells": [
  {
   "cell_type": "markdown",
   "metadata": {},
   "source": [
    "### Import packages"
   ]
  },
  {
   "cell_type": "code",
   "execution_count": 3,
   "metadata": {},
   "outputs": [],
   "source": [
    "import numpy as np\n",
    "import pandas as pd"
   ]
  },
  {
   "cell_type": "markdown",
   "metadata": {},
   "source": [
    "### Import Data"
   ]
  },
  {
   "cell_type": "code",
   "execution_count": 4,
   "metadata": {},
   "outputs": [],
   "source": [
    "data = pd.read_csv(\"newproductcontroldata.csv\")"
   ]
  },
  {
   "cell_type": "markdown",
   "metadata": {},
   "source": [
    "### Exploratory data analysis"
   ]
  },
  {
   "cell_type": "code",
   "execution_count": 5,
   "metadata": {},
   "outputs": [
    {
     "data": {
      "text/html": [
       "<div>\n",
       "<style scoped>\n",
       "    .dataframe tbody tr th:only-of-type {\n",
       "        vertical-align: middle;\n",
       "    }\n",
       "\n",
       "    .dataframe tbody tr th {\n",
       "        vertical-align: top;\n",
       "    }\n",
       "\n",
       "    .dataframe thead th {\n",
       "        text-align: right;\n",
       "    }\n",
       "</style>\n",
       "<table border=\"1\" class=\"dataframe\">\n",
       "  <thead>\n",
       "    <tr style=\"text-align: right;\">\n",
       "      <th></th>\n",
       "      <th>Store ID</th>\n",
       "      <th>City</th>\n",
       "      <th>State</th>\n",
       "      <th>Zip Code</th>\n",
       "      <th>Category Sales</th>\n",
       "      <th>Product Count</th>\n",
       "      <th>Size</th>\n",
       "    </tr>\n",
       "  </thead>\n",
       "  <tbody>\n",
       "    <tr>\n",
       "      <th>0</th>\n",
       "      <td>1</td>\n",
       "      <td>ALABASTER</td>\n",
       "      <td>AL</td>\n",
       "      <td>35007</td>\n",
       "      <td>18.88</td>\n",
       "      <td>1</td>\n",
       "      <td>Large</td>\n",
       "    </tr>\n",
       "    <tr>\n",
       "      <th>1</th>\n",
       "      <td>2</td>\n",
       "      <td>BIRMINGHAM</td>\n",
       "      <td>AL</td>\n",
       "      <td>35209</td>\n",
       "      <td>44125.66</td>\n",
       "      <td>6</td>\n",
       "      <td>Large</td>\n",
       "    </tr>\n",
       "    <tr>\n",
       "      <th>2</th>\n",
       "      <td>3</td>\n",
       "      <td>DECATUR</td>\n",
       "      <td>AL</td>\n",
       "      <td>35601</td>\n",
       "      <td>46627.92</td>\n",
       "      <td>5</td>\n",
       "      <td>Large</td>\n",
       "    </tr>\n",
       "    <tr>\n",
       "      <th>3</th>\n",
       "      <td>4</td>\n",
       "      <td>HUNTSVILLE</td>\n",
       "      <td>AL</td>\n",
       "      <td>35806</td>\n",
       "      <td>26658.48</td>\n",
       "      <td>6</td>\n",
       "      <td>Large</td>\n",
       "    </tr>\n",
       "    <tr>\n",
       "      <th>4</th>\n",
       "      <td>5</td>\n",
       "      <td>MOBILE</td>\n",
       "      <td>AL</td>\n",
       "      <td>36606</td>\n",
       "      <td>1863.60</td>\n",
       "      <td>3</td>\n",
       "      <td>Large</td>\n",
       "    </tr>\n",
       "  </tbody>\n",
       "</table>\n",
       "</div>"
      ],
      "text/plain": [
       "   Store ID        City State  Zip Code  Category Sales  Product Count   Size\n",
       "0         1   ALABASTER    AL     35007           18.88              1  Large\n",
       "1         2  BIRMINGHAM    AL     35209        44125.66              6  Large\n",
       "2         3     DECATUR    AL     35601        46627.92              5  Large\n",
       "3         4  HUNTSVILLE    AL     35806        26658.48              6  Large\n",
       "4         5      MOBILE    AL     36606         1863.60              3  Large"
      ]
     },
     "execution_count": 5,
     "metadata": {},
     "output_type": "execute_result"
    }
   ],
   "source": [
    "data.head()"
   ]
  },
  {
   "cell_type": "code",
   "execution_count": 6,
   "metadata": {},
   "outputs": [
    {
     "name": "stdout",
     "output_type": "stream",
     "text": [
      "<class 'pandas.core.frame.DataFrame'>\n",
      "RangeIndex: 7008 entries, 0 to 7007\n",
      "Data columns (total 7 columns):\n",
      "Store ID          7008 non-null int64\n",
      "City              7008 non-null object\n",
      "State             7008 non-null object\n",
      "Zip Code          7008 non-null int64\n",
      "Category Sales    7008 non-null float64\n",
      "Product Count     7008 non-null int64\n",
      "Size              7008 non-null object\n",
      "dtypes: float64(1), int64(3), object(3)\n",
      "memory usage: 383.3+ KB\n"
     ]
    }
   ],
   "source": [
    "data.info()"
   ]
  },
  {
   "cell_type": "markdown",
   "metadata": {},
   "source": [
    "* We want to introduce new product and let's check whether it will increase in sale or not.\n",
    "* First of all let's check about variable which we have to control\n",
    "    - Number of product offered in store\n",
    "    - Total volume of category sold\n",
    "    - Number of customers\n",
    "    - Number of competitive products\n",
    "    - Size\n",
    "    - Location\n",
    "    - Demographics of shoppers\n",
    "* We do not have info about Number of customers and Number of competitive products. Both location and demographics are related.\n",
    "* Let's test correlation"
   ]
  },
  {
   "cell_type": "markdown",
   "metadata": {},
   "source": [
    "* Is there any correlation between `Category Sales` and `Product Count`"
   ]
  },
  {
   "cell_type": "code",
   "execution_count": 7,
   "metadata": {},
   "outputs": [
    {
     "data": {
      "text/plain": [
       "0.4318812952414523"
      ]
     },
     "execution_count": 7,
     "metadata": {},
     "output_type": "execute_result"
    }
   ],
   "source": [
    "data[\"Category Sales\"].corr(data[\"Product Count\"])"
   ]
  },
  {
   "cell_type": "markdown",
   "metadata": {},
   "source": [
    "* `Product count` should be controlled in the experiment as sales is correlated with it."
   ]
  },
  {
   "cell_type": "code",
   "execution_count": 9,
   "metadata": {},
   "outputs": [
    {
     "data": {
      "text/html": [
       "<div>\n",
       "<style scoped>\n",
       "    .dataframe tbody tr th:only-of-type {\n",
       "        vertical-align: middle;\n",
       "    }\n",
       "\n",
       "    .dataframe tbody tr th {\n",
       "        vertical-align: top;\n",
       "    }\n",
       "\n",
       "    .dataframe thead tr th {\n",
       "        text-align: left;\n",
       "    }\n",
       "\n",
       "    .dataframe thead tr:last-of-type th {\n",
       "        text-align: right;\n",
       "    }\n",
       "</style>\n",
       "<table border=\"1\" class=\"dataframe\">\n",
       "  <thead>\n",
       "    <tr>\n",
       "      <th></th>\n",
       "      <th>Category Sales</th>\n",
       "    </tr>\n",
       "    <tr>\n",
       "      <th></th>\n",
       "      <th>mean</th>\n",
       "    </tr>\n",
       "    <tr>\n",
       "      <th>Size</th>\n",
       "      <th></th>\n",
       "    </tr>\n",
       "  </thead>\n",
       "  <tbody>\n",
       "    <tr>\n",
       "      <th>Large</th>\n",
       "      <td>23638.901950</td>\n",
       "    </tr>\n",
       "    <tr>\n",
       "      <th>Medium</th>\n",
       "      <td>24787.388681</td>\n",
       "    </tr>\n",
       "    <tr>\n",
       "      <th>Small</th>\n",
       "      <td>21663.566034</td>\n",
       "    </tr>\n",
       "  </tbody>\n",
       "</table>\n",
       "</div>"
      ],
      "text/plain": [
       "       Category Sales\n",
       "                 mean\n",
       "Size                 \n",
       "Large    23638.901950\n",
       "Medium   24787.388681\n",
       "Small    21663.566034"
      ]
     },
     "execution_count": 9,
     "metadata": {},
     "output_type": "execute_result"
    }
   ],
   "source": [
    "data.groupby(by=['Size']).agg({'Category Sales':[\"mean\"]})"
   ]
  },
  {
   "cell_type": "markdown",
   "metadata": {},
   "source": [
    "* We do not need to control store size in experiment as there is not apparent relationship."
   ]
  },
  {
   "cell_type": "markdown",
   "metadata": {},
   "source": [
    "* How many stores are there per zip codes"
   ]
  },
  {
   "cell_type": "code",
   "execution_count": 15,
   "metadata": {},
   "outputs": [
    {
     "data": {
      "text/plain": [
       "State  City              Zip Code\n",
       " AL    ALABASTER         35007       1\n",
       "       AUBURN            36830       1\n",
       "       BIRMINGHAM        35209       1\n",
       "                         35243       1\n",
       "                         35244       1\n",
       "       CULLMAN           35055       1\n",
       "       DECATUR           35601       1\n",
       "       DOTHAN            36303       1\n",
       "       FLORENCE          35630       1\n",
       "       GADSDEN           35901       1\n",
       "       GUNTERSVILLE      35976       1\n",
       "       HUNTSVILLE        35801       1\n",
       "                         35806       1\n",
       "       JASPER            35501       1\n",
       "       MOBILE            36606       2\n",
       "       MONTGOMERY        36117       1\n",
       "       PRATTVILLE        36066       1\n",
       "       SELMA             36703       1\n",
       "       SPANISH FORT      36527       1\n",
       "       TRUSSVILLE        35235       1\n",
       "       TUSCALOOSA        35405       1\n",
       " AR    CONWAY            72032       1\n",
       "       HOT SPRINGS       71913       1\n",
       "       LITTLE ROCK       72212       1\n",
       "       PARAGOULD         72450       1\n",
       "       ROGERS            72756       1\n",
       "       RUSSELLVILLE      72802       1\n",
       "       STUTTGART         72160       1\n",
       " FL    BROOKSVILLE       34613       1\n",
       "       CAPE CORAL        33991       1\n",
       "                                    ..\n",
       "WV     Martinsburg       25404       1\n",
       "       Mason             25260       1\n",
       "       Moorefield        26836       1\n",
       "       Morgantown        26501       2\n",
       "                         26508       1\n",
       "       Moundsville       26041       1\n",
       "       New Martinsville  26155       1\n",
       "       Parkersburg       26101       1\n",
       "       Princeton         24739       1\n",
       "       Quincy            25015       1\n",
       "       Ripley            25271       1\n",
       "       South Charleston  25309       2\n",
       "       Spencer           25276       1\n",
       "       Summersville      26651       1\n",
       "       Sutton            26601       1\n",
       "       Triadelphia       26059       1\n",
       "       Vienna            26105       2\n",
       "       Weirton           26062       1\n",
       "       Weston            26452       1\n",
       "WY     Casper            82604       1\n",
       "                         82609       2\n",
       "       Cheyenne          82007       1\n",
       "                         82009       2\n",
       "       Cody              82414       1\n",
       "       Evanston          82930       1\n",
       "       Gillette          82718       1\n",
       "       Laramie           82070       1\n",
       "       Rawlins           82301       1\n",
       "       Riverton          82501       1\n",
       "       Sheridan          82801       1\n",
       "Name: Store ID, Length: 4952, dtype: int64"
      ]
     },
     "execution_count": 15,
     "metadata": {},
     "output_type": "execute_result"
    }
   ],
   "source": []
  },
  {
   "cell_type": "markdown",
   "metadata": {},
   "source": [
    "* There is a almost 1 store in each zip code, very few has 2. Let's group only by city and state"
   ]
  },
  {
   "cell_type": "code",
   "execution_count": 16,
   "metadata": {},
   "outputs": [
    {
     "data": {
      "text/plain": [
       "State  City            \n",
       " AL    ALABASTER           1\n",
       "       AUBURN              1\n",
       "       BIRMINGHAM          3\n",
       "       CULLMAN             1\n",
       "       DECATUR             1\n",
       "       DOTHAN              1\n",
       "       FLORENCE            1\n",
       "       GADSDEN             1\n",
       "       GUNTERSVILLE        1\n",
       "       HUNTSVILLE          2\n",
       "       JASPER              1\n",
       "       MOBILE              2\n",
       "       MONTGOMERY          1\n",
       "       PRATTVILLE          1\n",
       "       SELMA               1\n",
       "       SPANISH FORT        1\n",
       "       TRUSSVILLE          1\n",
       "       TUSCALOOSA          1\n",
       " AR    CONWAY              1\n",
       "       HOT SPRINGS         1\n",
       "       LITTLE ROCK         1\n",
       "       PARAGOULD           1\n",
       "       ROGERS              1\n",
       "       RUSSELLVILLE        1\n",
       "       STUTTGART           1\n",
       " FL    BROOKSVILLE         1\n",
       "       CAPE CORAL          1\n",
       "       CLERMONT            1\n",
       "       DELAND              1\n",
       "       DESTIN              1\n",
       "                          ..\n",
       "WV     Lewisburg           1\n",
       "       Logan               1\n",
       "       Macarthur           1\n",
       "       Martinsburg         2\n",
       "       Mason               1\n",
       "       Moorefield          1\n",
       "       Morgantown          3\n",
       "       Moundsville         1\n",
       "       New Martinsville    1\n",
       "       Parkersburg         1\n",
       "       Princeton           1\n",
       "       Quincy              1\n",
       "       Ripley              1\n",
       "       South Charleston    2\n",
       "       Spencer             1\n",
       "       Summersville        1\n",
       "       Sutton              1\n",
       "       Triadelphia         1\n",
       "       Vienna              2\n",
       "       Weirton             1\n",
       "       Weston              1\n",
       "WY     Casper              3\n",
       "       Cheyenne            3\n",
       "       Cody                1\n",
       "       Evanston            1\n",
       "       Gillette            1\n",
       "       Laramie             1\n",
       "       Rawlins             1\n",
       "       Riverton            1\n",
       "       Sheridan            1\n",
       "Name: Store ID, Length: 3398, dtype: int64"
      ]
     },
     "execution_count": 16,
     "metadata": {},
     "output_type": "execute_result"
    }
   ],
   "source": [
    "data.groupby(by=[\"State\",\"City\"])[\"Store ID\"].count()"
   ]
  },
  {
   "cell_type": "code",
   "execution_count": 17,
   "metadata": {},
   "outputs": [
    {
     "data": {
      "text/plain": [
       "State\n",
       " AL     22\n",
       " AR      7\n",
       " FL     25\n",
       " GA     45\n",
       " KY      6\n",
       " LA      5\n",
       " MD      2\n",
       " MO      1\n",
       " MS     16\n",
       " NC     66\n",
       " OK      3\n",
       " SC     36\n",
       " TN     24\n",
       " TX     15\n",
       " VA     19\n",
       " WV      4\n",
       "AK      13\n",
       "AL     111\n",
       "AR      60\n",
       "AZ     183\n",
       "CA     913\n",
       "CO     175\n",
       "CT      57\n",
       "DC      26\n",
       "DE      15\n",
       "FL     490\n",
       "GA     225\n",
       "HI      13\n",
       "IA      73\n",
       "ID      26\n",
       "      ... \n",
       "ME      25\n",
       "MI     160\n",
       "MN     187\n",
       "MO     106\n",
       "MS      38\n",
       "MT      14\n",
       "NC     263\n",
       "ND      20\n",
       "NE      51\n",
       "NH      33\n",
       "NJ     107\n",
       "NM      36\n",
       "NV      52\n",
       "NY     212\n",
       "OH     228\n",
       "OK      80\n",
       "OR      92\n",
       "PA     186\n",
       "RI      10\n",
       "SC      89\n",
       "SD      15\n",
       "TN     116\n",
       "TX     574\n",
       "UT      77\n",
       "VA     242\n",
       "VT       4\n",
       "WA     160\n",
       "WI     147\n",
       "WV      43\n",
       "WY      13\n",
       "Name: Store ID, Length: 67, dtype: int64"
      ]
     },
     "execution_count": 17,
     "metadata": {},
     "output_type": "execute_result"
    }
   ],
   "source": [
    "data.groupby(by=[\"State\"])[\"Store ID\"].count()"
   ]
  },
  {
   "cell_type": "markdown",
   "metadata": {},
   "source": [
    "* It is good idea to control store over the state."
   ]
  },
  {
   "cell_type": "code",
   "execution_count": null,
   "metadata": {},
   "outputs": [],
   "source": []
  }
 ],
 "metadata": {
  "kernelspec": {
   "display_name": "Python 3",
   "language": "python",
   "name": "python3"
  },
  "language_info": {
   "codemirror_mode": {
    "name": "ipython",
    "version": 3
   },
   "file_extension": ".py",
   "mimetype": "text/x-python",
   "name": "python",
   "nbconvert_exporter": "python",
   "pygments_lexer": "ipython3",
   "version": "3.7.1"
  }
 },
 "nbformat": 4,
 "nbformat_minor": 2
}
