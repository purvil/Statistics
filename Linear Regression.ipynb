{
 "cells": [
  {
   "cell_type": "markdown",
   "metadata": {},
   "source": [
    "## Correlation\n",
    "* Strength of the linear association between 2 numerical variables. Denoted as R.\n",
    "\n",
    "![](images/correlation.JPG)\n",
    "* Sign indicates direction of association. Value lies between -1 and 1. 0 indicates no linear relationship.\n",
    "* It is unitless ans not affected by changes in the center or scale of either variable (No changes during unit conversation).\n",
    "* Correlation of X and Y = Y and X.\n",
    "* It is sensitive to outliers.\n",
    "\n",
    "## Residual\n",
    "* Leftovers from the model's fit\n",
    "* Data = fit + residual\n",
    "* Difference between observed and predicted y.\n",
    "$$residual = original - predicted$$"
   ]
  },
  {
   "cell_type": "markdown",
   "metadata": {},
   "source": [
    "## Measure of the best line\n",
    "### Minimize the sum of magnitudes (absolute values) of residuals\n",
    "\n",
    "### Minimize the sum of squared residuals (least square)\n",
    "* In some application residual twice as large as another is more than twice as bad. So this approach is suitable.\n",
    "![](images/line_notation.JPG)\n",
    "* To estimate slope\n",
    "\n",
    "$$b_1 = \\frac{S_y}{S_x}R$$\n",
    "    - $S_x$ = SD of x\n",
    "    - $S_y$ = SD of y\n",
    "    - R = cor(x,y)"
   ]
  },
  {
   "cell_type": "markdown",
   "metadata": {},
   "source": [
    "* Example: SD of % living poverty is 3.1% and the SD of % HS graduate is 3.73%. Correlation between these variable is -0.75, Find slope of regression line.\n",
    "    - Slope = $b_1$ = $\\frac{3.1}{3.73} * (-0.75)$ = -0.62"
   ]
  },
  {
   "cell_type": "markdown",
   "metadata": {},
   "source": [
    "* Sign of slope is always equal to sign of correlation coefficient\n",
    "* Here slope is -0.62 means for each % point increase in HS graduate rate, we would expect the % living in poverty will decrease by 0.62% **ON AVERAGE** (avoid causal language we are dealing with observational study)"
   ]
  },
  {
   "cell_type": "markdown",
   "metadata": {},
   "source": [
    "* Now we will find y intercept. Least square line always pass through $\\bar{x}$ and $\\bar{y}$.\n",
    "$$\\bar{y} = b_0 + b_1\\bar{x}$$\n",
    "$$b_0 = \\bar{y} - b_1\\bar{x}$$"
   ]
  },
  {
   "cell_type": "markdown",
   "metadata": {},
   "source": [
    "* Example: Avg % living in poverty is 11.35% and avg %HS graduate is 86.01% what is the intercept of the regression line.\n",
    "\n",
    "$$b_0 = 11.35 - (-0.62)86.01 = 64.68$$"
   ]
  },
  {
   "cell_type": "markdown",
   "metadata": {},
   "source": [
    "* Regression line always go through center of the data. Intercept is expected value of response variable when explanatory value equal to 0"
   ]
  },
  {
   "cell_type": "markdown",
   "metadata": {},
   "source": [
    "* States with no HS graduate are expected ON AVERAGE to have 64.68% of their residents living below the poverty line. Sometime it can be meaningless"
   ]
  },
  {
   "cell_type": "markdown",
   "metadata": {},
   "source": [
    "## Prediction and Extrapolation\n",
    "* Using linear model to predict value of response variable for given value of explanatory variable.\n",
    "* Slope = -0.62, intercept = 64.68. Find predicted % living in poverty where HS graduation rate is 82%.\n",
    "\n",
    "$$ percent\\ in\\ poverty = 64.68 - 0.62 * 82 = 13.84$$"
   ]
  },
  {
   "cell_type": "markdown",
   "metadata": {},
   "source": [
    "* Applying model estimate to values outside of original data is called extrapolation\n",
    "* Sometime intercept is also extrapolation\n",
    "![](images/extrapolation.JPG)"
   ]
  },
  {
   "cell_type": "markdown",
   "metadata": {},
   "source": [
    "* If we are told to estimate % living in poverty for 20% HS graduate, we should avoid it as it is not in vicinity available original data."
   ]
  },
  {
   "cell_type": "markdown",
   "metadata": {},
   "source": [
    "## Condition for Linear Regression"
   ]
  },
  {
   "cell_type": "markdown",
   "metadata": {},
   "source": [
    "### Linearity\n",
    "* Relationship between explanatory and response variable should be linear.\n",
    "* Check using scatter plot of the data or use residual plot\n",
    "![](images/scatter_residual_plot.JPG)\n",
    "* Ideal residual is 0. It should be randomly scattered around 0 and absolutely NO pattern.\n",
    "\n",
    "### Nearly normal residuals\n",
    "* Residual should be nearly normally distributed, centered at 0.\n",
    "* May not satisfied when there are unusual observation that do not follow trend of rest of the data.\n",
    "![](images/normal_residual.JPG)\n",
    "\n",
    "### Constant Variability\n",
    "* Variability of points around the least square line should be roughly constant. Also means variability of residual around 0 line also roughly constant as well. It is called **homoscedasticity**\n",
    "![](images/homoscedasticity.JPG)"
   ]
  },
  {
   "cell_type": "markdown",
   "metadata": {},
   "source": [
    "## $R^2$\n",
    "* Strength of the fit of a linear model is most commonly evaluated using $R^2$.\n",
    "* Square of correlation coefficient.\n",
    "* Tells what % of variability in the response variable is explained by the model. Remainder of variability is explained by variable not included in model.\n",
    "* Always 0 and 1.\n",
    "* Example $R^2$ = 0.5625 for % living in poverty and % HS graduates.\n",
    "    - 56.25% of the variability in the % residents living in poverty among the states is explained by the model."
   ]
  },
  {
   "cell_type": "markdown",
   "metadata": {},
   "source": [
    "## Regression with Categorical explanatory variable\n",
    "* Explanatory variable is region. 0 = east and 1 = west.\n",
    "* When explanatory variable is categorical. Choose one level as reference level, take its value 0. Ex. here east is reference level.\n",
    "$$poverty = 11.17 + 0.38\\ *\\ region$$"
   ]
  },
  {
   "cell_type": "markdown",
   "metadata": {},
   "source": [
    "* Intercept : Model predicts 11.37% avg poverty in eastern state\n",
    "* Slope: Model predicts that the avg poverty % in western state i 0.38% higher than in eastern rate."
   ]
  },
  {
   "cell_type": "markdown",
   "metadata": {},
   "source": [
    "## Outliers in Regression\n",
    "![](images/outlier.JPG)\n",
    "* If there is an outlier then there seems a relationship (red solid line), if we remove outlier there is no relationship between x and y (dotted line)\n",
    "* Outlier fall horizontally away from the center of the cloud but do not influence the slope of regression line are called **leverage points**\n",
    "![](images/leverage_outlier.JPG)\n",
    "* Outlier that caused slope of regression line is called **influential points**. Visualize the regression line after removing the outlier, does slope of line changes?\n",
    "\n",
    "![](images/outlier_reg.JPG)"
   ]
  },
  {
   "cell_type": "markdown",
   "metadata": {},
   "source": [
    "* Does influential point reduce $R^2$?\n",
    "    - No it can increase sometime, always visualize instead of relying on the R value\n",
    "![](images/R_outlier.JPG)"
   ]
  },
  {
   "cell_type": "markdown",
   "metadata": {},
   "source": [
    "## Inference for Linear Regression\n",
    "* Data consist of IQ score for 27 identical twins, one raised by foster parents other by biological.\n",
    "![](images/IQ.JPG)\n",
    "* Regression output \n",
    "$$Regression\\ Output = 9.2076 + 0.9014 Biological\\ IQ$$\n",
    "* $R^2$ = 0.78\n",
    "* 78% variability in foster IQ can be explained by biological IQ."
   ]
  },
  {
   "cell_type": "markdown",
   "metadata": {},
   "source": [
    "### Hypothesis testing for the slope\n",
    "* $H_0$ : Nothing going on. The explanatory variable is not a significant predictor of the response variable, there is no relationship. slope = 0\n",
    "* $H_A$ : Explanatory is significant predictor of response variable. Slope of the relationship is different than 0.\n",
    "* Always use t statistics for inference for LR.\n",
    "    $$T = \\frac{point\\ estimate - null\\ value}{SE}$$\n",
    "* Point estimate is $b_1$. SE is $SE_{b_1}$"
   ]
  },
  {
   "cell_type": "markdown",
   "metadata": {},
   "source": [
    "* t-statistics for the slope = t = $\\frac{b_1 - 0}{SE_{b_1}}$\n",
    "* Degrees of freedom = n - 2\n",
    "    - We always loose DF for each parameter we estimate. In LR we estimate both slope and intercept.\n",
    "![](images/t_test_slope.JPG)"
   ]
  },
  {
   "cell_type": "markdown",
   "metadata": {},
   "source": [
    "### CI for the slope\n",
    "* point estimate $\\pm$ margin of error\n",
    "* $b_1 \\pm t_{df}SE_{b_1}$"
   ]
  },
  {
   "cell_type": "markdown",
   "metadata": {},
   "source": [
    "* 95% CI for the slope of the relationship between biological and foster IQ's\n",
    "![](images/CI_clope.JPG)\n",
    "* We are 95% confident that for each additional point on the biological twins IQ, the foster twins IQ are expected to be higher by 0.7 to 1.1 points\n"
   ]
  },
  {
   "cell_type": "markdown",
   "metadata": {},
   "source": [
    "* Null value is often 0 as we usually check for any relationship between the explanatory and the response variables."
   ]
  },
  {
   "cell_type": "markdown",
   "metadata": {},
   "source": [
    "* Inference for intercept is rarely done.\n",
    "* Always be aware of data is it random, non random sample or population\n",
    "* For population data statistical inference and resulting p-values are meaningless."
   ]
  },
  {
   "cell_type": "code",
   "execution_count": null,
   "metadata": {},
   "outputs": [],
   "source": []
  }
 ],
 "metadata": {
  "kernelspec": {
   "display_name": "Python 3",
   "language": "python",
   "name": "python3"
  },
  "language_info": {
   "codemirror_mode": {
    "name": "ipython",
    "version": 3
   },
   "file_extension": ".py",
   "mimetype": "text/x-python",
   "name": "python",
   "nbconvert_exporter": "python",
   "pygments_lexer": "ipython3",
   "version": "3.7.1"
  },
  "toc": {
   "base_numbering": 1,
   "nav_menu": {},
   "number_sections": true,
   "sideBar": true,
   "skip_h1_title": false,
   "title_cell": "Table of Contents",
   "title_sidebar": "Contents",
   "toc_cell": false,
   "toc_position": {
    "height": "calc(100% - 180px)",
    "left": "10px",
    "top": "150px",
    "width": "384px"
   },
   "toc_section_display": true,
   "toc_window_display": false
  },
  "varInspector": {
   "cols": {
    "lenName": 16,
    "lenType": 16,
    "lenVar": 40
   },
   "kernels_config": {
    "python": {
     "delete_cmd_postfix": "",
     "delete_cmd_prefix": "del ",
     "library": "var_list.py",
     "varRefreshCmd": "print(var_dic_list())"
    },
    "r": {
     "delete_cmd_postfix": ") ",
     "delete_cmd_prefix": "rm(",
     "library": "var_list.r",
     "varRefreshCmd": "cat(var_dic_list()) "
    }
   },
   "types_to_exclude": [
    "module",
    "function",
    "builtin_function_or_method",
    "instance",
    "_Feature"
   ],
   "window_display": false
  }
 },
 "nbformat": 4,
 "nbformat_minor": 2
}
