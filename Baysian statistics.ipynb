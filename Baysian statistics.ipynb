{
 "cells": [
  {
   "cell_type": "markdown",
   "metadata": {},
   "source": [
    "* Classical approach\n",
    "    - Outcome is equally likely and has the same probability. Probability of rolling 4 out of fair die is 1/6\n",
    "    - getting sum 4 by rolling 2 dice. (3/36)\n",
    "* Frequentist approach:\n",
    "    - Relative frequency in infinite number of sequence\n",
    "    - Roll die for 1000000 times and calculate how many times 4 occurs.\n",
    "* Bayesian approach:\n",
    "    - Personal perspective, takes into consideration what you know about the event.\n",
    "    - Probability based on synthesis of evidence and personal judgment regarding that evidence."
   ]
  },
  {
   "cell_type": "markdown",
   "metadata": {},
   "source": [
    "* Probability shows degree of certainty. \n",
    "* Conditional probability is probability based on some background information.\n"
   ]
  },
  {
   "cell_type": "markdown",
   "metadata": {},
   "source": [
    "### Diachronic interpretation\n",
    "* Update the probability of hypothesis, H in light of some body D.\n",
    "* Diachronic means something is happening over time in this case probability hypothesis changes as we see new data.\n",
    "\n",
    "$$P(H | D) = \\frac{P(H\\ and\\ D)}{P(D)} = \\frac{P(H)P(D|H)}{P(D)}$$"
   ]
  },
  {
   "cell_type": "markdown",
   "metadata": {},
   "source": [
    "* P(H) = prior , probability of hypothesis before we collect data\n",
    "* P(H|D) = Posterior, probability of H after we observe data.\n",
    "* P(D | H) = Likelihood, probability of data under hypothesis\n",
    "* P(D) : probability of data under any hypothesis, (Normalizing constant)\n"
   ]
  }
 ],
 "metadata": {
  "kernelspec": {
   "display_name": "Python 3",
   "language": "python",
   "name": "python3"
  },
  "language_info": {
   "codemirror_mode": {
    "name": "ipython",
    "version": 3
   },
   "file_extension": ".py",
   "mimetype": "text/x-python",
   "name": "python",
   "nbconvert_exporter": "python",
   "pygments_lexer": "ipython3",
   "version": "3.7.1"
  }
 },
 "nbformat": 4,
 "nbformat_minor": 2
}
