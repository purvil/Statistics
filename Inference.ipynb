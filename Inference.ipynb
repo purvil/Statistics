{
 "cells": [
  {
   "cell_type": "markdown",
   "metadata": {},
   "source": [
    "* Statistical inference concerns with quality of parameter estimates. Ex How sure we that estimated mean is near the true population mean?\n",
    "* Sample mean is called point estimate to population mean."
   ]
  },
  {
   "cell_type": "markdown",
   "metadata": {},
   "source": [
    "* 41% believes young adult hit by recession badly than older.\n",
    "* Sample was 2048 adults of age 18 and  older. Margin of sampling error is + or - 2.9% for results based on total sample and 4.4% points for adults ages 18-4 at the 95% confidence level\n",
    "    - 41% +- 2.9% meaning,  we are 95% confident that 38.1% to 43.9% of the public believe young adult hits by recession than older.\n",
    "* Using this sample we got 41% of people agreeing. But having other sample this number can change. Meaning here we are using sample statistics to estimate population parameter.\n",
    "* Quantifying how sample statistics vary, provide us way to estimate margin of error."
   ]
  },
  {
   "cell_type": "markdown",
   "metadata": {},
   "source": [
    "* From population we take several samples, and calculate sample statistics for each sample. Each sample has their own distribution called **sample distribution**. Each observation in sample distribution is randomly sampled observation from population.\n",
    "* All sample statistics makes new distribution called **sampling distribution**. Each observation is sample statistics. Ex. sample mean\n",
    "* Sampling distribution is distribution of point estimates based on sample of fixed size from certain population.\n",
    "![Sampling distribution](images/sampling_distribution.jpg)"
   ]
  },
  {
   "cell_type": "markdown",
   "metadata": {},
   "source": [
    "* Ex. Average hight of American women, N = population  size, parameter of interest is $\\mu$ average of all US women.\n",
    "![example_sampling_distribution](images/example_sampling_distribution.jpg)"
   ]
  },
  {
   "cell_type": "markdown",
   "metadata": {},
   "source": [
    "* If variability between sample mean is small, then  that estimates is good.\n",
    "* Sample size increases standard error decreases, fewer women we sample from each state, more variable the sample mean."
   ]
  },
  {
   "cell_type": "markdown",
   "metadata": {},
   "source": [
    "### Central Limit Theorem (CLT)\n",
    "* Distribution of sample statistics is nearly normal, centered at population mean and with SD equal to population SD \n",
    "divided by $\\sqrt{n}$ (n = sample size)\n",
    "\n",
    "$$Sampling Distribution ~ N(mean = \\mu, SE = \\frac{\\sigma}{\\sqrt{n}})$$\n",
    "\n",
    "* Tells about shape, center and spread. when $\\sigma$ is unknown use S = sample SD (SD of one sample which we have)\n",
    "* As sample size increases, sample will yield more consistent sample means so variability among sample means is lower so lower SE.\n",
    "* Standard deviation of the sample mean tells how far the typical estimate is away from the actual population mean. Also denoted by error of point estimate. So we call this SD the standard Error(SE)\n",
    "* The standard deviation associated with estimate is called standard error.It describes uncertainty associated with estimate.\n",
    "\n",
    "#### Condition of CLT\n",
    "* Independent: Sampled observation must be independent. Random sample/assignment. If sampling without replacement n < 10 % of population.\n",
    "* Sample size/skew: Either the population is normal or if the population distribution is skew, sample size is large (n > 30).\n",
    "\n",
    "    - Why 10 % condition? Sampling without replacement, n < 10% of the population. I am living in very small town of 1000 population, my family lives with me. If my sample size is 500 there is high chance me, my family in sample so sample will NOT be independent. So dont grab more than 10%.\n",
    "    - Why sample size and skew condition? Having skewed population. small sample, shape of sample distribution will mimic the shape of population distribution and sample mean is also variable. Increasing sample size make sample distribution more unimodal and symmetric.\n",
    "    \n",
    "* Ex I have slightly skewed population distribution of annual income in developed nation, with mean of 30000$. SD $20000. Take 10000 Random sample of size 625.\n",
    "    - as n = 625 is large, CLT will hold and sampling distribution to be nearly normal. mean will be quite same as population mean which is 30000, SE = $\\frac{20000}{\\sqrt{625}} = 800 $"
   ]
  },
  {
   "cell_type": "markdown",
   "metadata": {},
   "source": [
    "## Confidence Interval\n",
    "* A plausible range of values for the population parameter is called confidence interval.\n",
    "* If we report only point estimate, we probably wont hit exact population parameter. If we report a range of plausible values we have a good shot at capturing the parameter. \n",
    "* This is like catching fish with arrow vs net.\n",
    "* Based on one sample mean we want to determine range of population parameter.\n",
    "* So interval should be constructed around the sample mean. According to CLT, sample mean are distributed normally and center of the distribution is unknown population mean.\n",
    "* According to 68-95-99.7 rule, roughly 95% of sample mean will be within 2 SD of population mean.\n",
    "* Meaning for 95% unknown population mean will be within 2 SD of sample mean.\n",
    "    - 95% confidence interval = $\\bar{x} \\pm 2 * SE$  \n",
    "    - 2* SE is called Margin of error (ME)"
   ]
  },
  {
   "cell_type": "markdown",
   "metadata": {},
   "source": [
    "* Ex. Study on 124 couples found that 64.5% turned their head right during kiss, SE associated with this estimate is 4%\n",
    "    - Margin of Error for 95% confidence of the percentage of kisser who turn head right is roughly 8 % (2 * SE = 2 * 4)\n",
    "    - 95% CI for % of kissers who turn head right is 64.5% $\\pm$ (2 * 4 %)"
   ]
  },
  {
   "cell_type": "markdown",
   "metadata": {},
   "source": [
    "* Confidence Interval for population mean can computed as the sample mean $\\pm$ a margin of error(Critical value corresponding to middle XX% of the normal distribution times the standard error of the sampling distribution)\n",
    "\n",
    "$$\\bar{x} \\pm z*\\frac{s}{\\sqrt{n}}$$\n",
    "\n",
    "* z is called critical value"
   ]
  },
  {
   "cell_type": "markdown",
   "metadata": {},
   "source": [
    "### Condition for CI\n",
    "* Independent: Sampled observations must be independent.\n",
    "    - Random assignment/sample\n",
    "    - Sampling without replacement n < 10% of population\n",
    "* Sample size/skew\n",
    "    - n >= 30, larger if population distribution is very skewed. "
   ]
  },
  {
   "cell_type": "markdown",
   "metadata": {},
   "source": [
    "* According to 65-95-99.7% rule, z for 95% is approximately 2, but to find exact Z, \n",
    "![Critical Value](images/citical_value.jpg)\n"
   ]
  },
  {
   "cell_type": "markdown",
   "metadata": {},
   "source": [
    "### Accuracy vs Precision\n",
    "* Accuracy, whether or not CI contains the true population parameter. Precision refers to width of CI\n",
    "* Suppose we took many samples and built CI from each sample using \n",
    "    - point estimate $\\pm$ 1.96 * SE\n",
    "    - Then about 95% of those intervals would contain the true population mean $\\mu$\n",
    "Confidence_interval\n",
    "![Confidence_interval](images/Confidence_interval.jpg)\n",
    "\n",
    "* Commonly used Confidence levels in practice are 90%, 95%, 98%, 99%.\n",
    "* What drawbacks are associated with wider interval?\n",
    "     - Increased confidence level means increased width of CI, means increased accuracy but precision goes down.\n",
    "* How to get both ? Higher precision and higher accuracy?\n",
    "    - Increase sample size, it will shrink SE, so we still at higher confidence level without increasing width if CI."
   ]
  },
  {
   "cell_type": "markdown",
   "metadata": {},
   "source": [
    "### Required Sample size for ME\n",
    "* Given a target ME, confidence level, info on variability of the sample, we can determine the required sample size to achieve desired ME\n",
    "    - ME = z * $\\frac{s}{\\sqrt{n}}$\n",
    "    - n = $(\\frac{z*s}{ME})^2$\n",
    "* Ex. SD for IQ score of 3 years old is 18 points. How many children should researcher needed to obtain 90% CI with ME <= 4.\n",
    "    - Critical value z associated with 90% CI is 1.65\n",
    "    - n = $(\\frac{1.65*18}{4})^2$ = 55.13 is minimum required sample size.\n",
    "    - needed at least 56 children in sample.\n",
    "* n and ME is exponential and inversely proportional meaning to cut down ME by 1/3  we need 9n sample size."
   ]
  },
  {
   "cell_type": "markdown",
   "metadata": {},
   "source": [
    "* We are XX % confident that the population parameter is in between.......\n",
    "* CI only try to capture population parameter. It say NOTHING about capturing individual observation, proportion of observation or about capturing the point estimates.\n",
    "* It only attempts to capture population parameter.\n",
    "* Example \n",
    "![CI_example](images/CI_example.jpg)\n",
    "\n",
    "- SE = S / $\\sqrt{n}$ = 1.74 / $\\sqrt{50}$ = 0.246\n",
    "- Confidence interval for 95%, 3.2 $\\pm$ 1.96(0.246)"
   ]
  },
  {
   "cell_type": "markdown",
   "metadata": {},
   "source": [
    "-------------"
   ]
  },
  {
   "cell_type": "markdown",
   "metadata": {},
   "source": [
    "## Hypothesis Testing\n",
    "* Null $H_0$ Hypothesis: Often either skeptical perspective or a claim to be tested (=)\n",
    "* Alternative $H_A$ Hypothesis: ALternative claim under consideration and is often represented by range of possible parameter values. (<, >, !=)\n",
    "* We will not reject $H_0$ unless the evidence in favor of the $H_A$ is so strong."
   ]
  },
  {
   "cell_type": "markdown",
   "metadata": {},
   "source": [
    "* Ex. 95% confidence interval for average number of exclusive relationship college students have been to be (2.7, 3.7). DO this data support hypothesis that college student on avg have been more than 3 exclusive relationships?\n",
    "    - $H_0$ : $\\mu$ = 3. meaning college student have been in 3 exclusive relationships on average.\n",
    "    - $H_A$ : $\\mu$ > 3.meaning college student have been in more than 3 exclusive relationships on average.\n",
    "    - Interval is (2.7, 3.7). It contains $\\mu$ = 3. Interval says any value within it can be true population mean. SO we can not reject $H_0$.  But we need further investigation like p-value.\n",
    "* Make sure hypothesis is ALWAYS about population parameter, never about sample statistics.\n",
    "\n",
    "### P-value\n",
    "* Quantify strength of evidence against null hypothesis and in favor of alternative. It is a conditional probability\n",
    "* The null value(parameter value under null hypothesis) is in 95% confident interval but barely, so we would not reject null hypothesis but we might like to somehow say, quantitatively that it was a close decision.\n",
    "* The null value is very far outside the interval, so we reject null  hypothesis. However we want to communicate that not only did reject the null hypothesis but it was  not even close.\n",
    "* P-value is very useful for such depiction.\n",
    "* P(observed or more extreme outcome | $H_0$ is true)\n",
    "* P($\\bar{x}$ > 3.2 | $H_0$: $\\mu$ = 3)\n",
    "![p_value](images/p_value.jpg)\n",
    "\n",
    "* We used test statistics to calculate p-value which is probability of observing data at least as favorable to alternative hypothesis as our current data set, if null hypothesis was true.\n",
    "* If p-value is low (lower than significance level $\\alpha$, which is usually 5%) we say that it would be very unlikely to observe data if the null hypothesis were true and hence reject null hypothesis.\n",
    "* If p-value is higher than $\\alpha$ we say that it is likely to observe the data even if the null hypothesis were true, hence we do NOT reject null hypothesis.\n",
    "* Our p-value in example is 0.209 (20.9%) which is higher than 5% so we will NOT reject null hypothesis.\n",
    "\n",
    "#### Interpreting P-value\n",
    "- If in fact college students have been in 3 exclusive relationships on average, there is a 21% chance that a random sample of 50 students would yield a sample mean of 3.2 or higher. This is pretty high probability so we can say that sample mean of 3.2 or more relationships is likely to happen simply by chance.\n",
    "\n",
    "### Two-sided test\n",
    "* Instead looking for a divergence from the null in a specific direction we might be interested in divergence in any direction. We call such hypothesis tests two-sided (two- tailed)\n",
    "* Ex. P($\\bar{x}$ > 3.2 or $\\bar{x}$ < 2.8 | $H_0$: $\\mu$ = 3)\n",
    "![p_value](images/p_value1.jpg)\n",
    "* When you are interested to measure only increase or decrease use 1 sided test. If you are interested in any difference from null value then do 2 sided test."
   ]
  },
  {
   "cell_type": "markdown",
   "metadata": {},
   "source": [
    "![hypo_test_conclusion](images/hypo_test_conclusion.jpg)"
   ]
  },
  {
   "cell_type": "markdown",
   "metadata": {},
   "source": [
    "* Z score is called test statistics. In hypothesis test, test statistics is a particular data summary that is especially useful for computing p-value  and evaluating hypothesis test. When point estimate is nearly normal we use z-score of the point estimate as test statistics. "
   ]
  },
  {
   "cell_type": "markdown",
   "metadata": {},
   "source": [
    "* Ex. Students from 2011 lifted weights 3.09 days per week. Determine whether sample from 2013 student are lifting more or less than 2011 students, versus the probability that there is NO change. Point estimate for 2013 average number of days per week is $\\bar{x}_{13} = 2.78 \\ days$.\n",
    "    - $H_0$ = There is no change, in 2013 student lift weight on same number of days as 2011. $\\mu_{13} = 3.09$\n",
    "    - $H_A$ = Different than 2013. $\\mu_{13} \\ne 3.09$\n",
    "    - $\\bar{x}_{13}$ suggest that student are lifting less days than 2011 students. But still we need to verify uncertainty associated with $\\bar{x}_{13}$. There is a fluctuation from one sample to other. And it is unlikely that sample mean will be same as parameter. Difference between $\\bar{x}_{13}$ and $\\mu_{11}$ can be due to sampling variation.\n",
    "    - Create confidence interval, to determine plausible range of values for population mean,\n",
    "        - sample size = 100 SD = 2.56 days, compute 95% confident interval. \n",
    "        - $\\bar{x}_{13} \\pm z*SE$ = 2.78 * 1.96 * $\\frac{2.56}{\\sqrt{100}}$ = (2.27, 3.29)\n",
    "        -Because avg of all student in 2011, 3.09 falls within range we can not reject null hypothesis\n",
    "* Ex. College student sleep 7 hrs per night on avg. Rural college student sleep longer than 7 hrs. Sample from rural school has 110 students, averaged 7.42 hrs of sleep and SD of 1.75 hrs.\n",
    "    - $H_0$ : $\\mu$ = 7\n",
    "    - $H_0$ : $\\mu$ > 7\n",
    "    - It is one sided hypothesis test\n",
    "    - SE = $\\frac{s}{\\sqrt{n}}$ = $\\fra{1.75}{\\sqrt{110}}$ = 0.17\n",
    "    - Distribution which we consider is nearly normal with mean of 7 and SE of 0.17.\n",
    "    ![example2](images/example2.jpg)\n",
    "    - Shaded area is chance of observing such a large mean, conditioned null hypothesis is true. Shaded tail represents p-value.\n",
    "    - Z = 7.42 - 7 / 0.17 = 2.47\n",
    "    * Using table we can find that shaded area is 0.007. Meaning if $H_0$ is true observing a sample mean at least 7.42 hrs from sample of 110 student is only 0.007. Meaning we would not often see such large mean.\n",
    "    - 0.007 < 0.05(significance level) we reject $H_0$. What we observed is so unusual with respect to the null hypothesis.\n",
    "* Ex. 2-sided test, student differe from the norm of 7 hrs. samples 122 students, mean = 6.83 hrs SD = 1.8 hrs \n",
    "    - $H_0$ : $\\mu$ = 7\n",
    "    - $H_0$ : $\\mu$ $\\ne$ 7\n",
    "    - SE = $\\frac{s}{\\sqrt{n}}$ = $\\frac{1.8}{\\sqrt{112}}$ = 0.16\n",
    "    - Distribution which we consider is nearly normal with mean of 7 and SE of 0.16.\n",
    "    ![2sided_example](images/2sided_example.jpg)\n",
    "    - Shaded area is chance of observing such a large mean, conditioned null hypothesis is true. Shaded tail represents p-value.\n",
    "    - Z = 6.83 - 7.00 / 0.16 = -1.06 \n",
    "    - left tail = 0.1446\n",
    "    - P value = 2 * 0.1446 = 0.2892\n",
    "    - P value is larger than 0.05 so we will NOT reject $H_0$."
   ]
  },
  {
   "cell_type": "markdown",
   "metadata": {},
   "source": [
    "### Inference for other estimators\n",
    "* Methods we learned (CI and hypothesis test) can be adopted to any nearly normal distribution. \n",
    "    - Sample mean $\\bar{x}$\n",
    "    - Difference between two sample mean $\\bar{x}_{1} - \\bar{x}_{13}$\n",
    "    - Sample proportion ($\\hat{p}$)\n",
    "    - Difference between sample proportion($\\hat{p}_1$ - $\\hat{p}_2$)\n",
    "* Point estimates are unbiased. i.e. the sampling distribution of the estimate is centered at the true population parameter it estimates. Meaning an unbiased estimate does not naturally over or underestimate the parameter, it provides a good estimate. All of above are unbiased estimate.\n",
    "* Confidence interval for nearly normal point estimates, point estimates $\\pm$ z * SE\n",
    "* Ex. 2010 polls indicates among 1099 college graduate, 33% watch daily show. SE of this estimates = 0.014, estimate 95% CI for proportion of college graduate who watch Daily show.\n",
    "    - $\\hat{p}$ = 0.33 , SE = 0.014\n",
    "    - 0.33 $\\pm$ 1.96 * 0.014 = (0.303, 0.357)\n",
    "    - We are 95% cofident that between 30.3% and 35.7% college graduate watch daily show.\n",
    "* Ex.\n",
    "![example1](images/example1.jpg)\n"
   ]
  },
  {
   "attachments": {},
   "cell_type": "markdown",
   "metadata": {},
   "source": [
    "* Ex. Drug reducing death rate in heart attack patient. n = 1475. Divided in 2 groups, control and treatment. COntrol group receive placebo and treatment group receive new drug. In control 62 out of 742 died and in treatment 41 of 733 died. Determine drug is effective? SE = 0.013, significance level = 0.05\n",
    "    - $\\hat{p}_c$ : Proportion of people died in control group = 62/742 =\n",
    "    - $\\hat{p}_t$ : Proportion of people died in treatment group = 41/733 =\n",
    "    - Strong evidence against null hypothesis and in favor of alternative would correspond to an observed difference in death rate, point estimates = $\\hat{p}_c - \\hat{p}_t = 0.025$\n",
    "    - $H_0$ : Drug does not effective $\\hat{p}_c - \\hat{p}_t = 0$\n",
    "    - $H_A$: Drug is effective $\\hat{p}_c > \\hat{p}_t$\n",
    "    - Z = (point estimate - null value) / SE = (0.025 - 0) / 0.013 = 1.92\n",
    "    - P value = 1 - 0.973 = 0.027\n",
    "    - ![example3](images/example3.jpg)\n",
    "    - P is less than 0.05 so we reject null hypothesis."
   ]
  },
  {
   "cell_type": "markdown",
   "metadata": {},
   "source": [
    "## Decision Errors\n",
    "* **Type 1 error** is rejecting Null hypothesis when null hypothesis is true\n",
    "* **Type 2 error** is failing to reject Null hypothesis when Alternative hypothesis is true.\n",
    "![decision_error](images/decision_error.jpg)"
   ]
  },
  {
   "cell_type": "markdown",
   "metadata": {},
   "source": [
    "### Type 1 error\n",
    "* We reject $H_0$ when the p-value is less than 0.05 ($\\alpha$ = 0.05)\n",
    "* It means for those case where $H_0$ is actually true, we do not want to incorrectly reject it more than 5% of those type.\n",
    "* Using 5% significance level there is about 5% chance of making Type 1 error if null hypothesis is true\n",
    "    - P(Type 1 error | $H_0$ is true) = $\\alpha$\n",
    "* This is why we prefer small $\\alpha$, increasing $\\alpha$ increases the type 1 error\n",
    "* How to choose $\\alpha$\n",
    "    - If type 1 error is dangerous in application choose small significance level ex. 0.01. Meaning we want to be very cautious about rejecting null hypothesis so we demand very strong evidence favoring alternative hypothesis before we would do so.\n",
    "    \n",
    "### Type 2 error\n",
    "* If it is more costly then choose higher significance level such as 0.10.\n",
    "* We want to be cautious about failing to reject null hypothesis when null is actually false.\n",
    "* If $H_A$ actually true, what is the chance that we make type 2 error that is we fail to reject null hypothesis even when we should reject it.\n",
    "    - If true population average is very close to null value, it will be difficult to detect difference and reject $H_0$\n",
    "    - If the true population average is very different from null value, it will be easier to detect difference.\n",
    "    - Clearly $\\beta$ depends on **effect size**, difference between point estimate and null value.\n",
    "    - Meaning, null hypothesis is more likely to reject when effect size is large.\n",
    "![type1_2](images/type1_2.jpg)"
   ]
  },
  {
   "cell_type": "markdown",
   "metadata": {},
   "source": [
    "### Significance Vs Confidence level\n",
    "* Both are complements of each other.\n",
    "* 2 sided hypothesis with $\\alpha$ = 0.05, where two tail area add up to 0.05 is indeed equivalent to 95% of CI.\n",
    "![significance](images/significance.jpg)\n",
    "* In 1 sided hypothesis test with $\\alpha$ = 0.05 the equivalent confidence level is going to be 90% (Just to make CI symmetric we should leave other 5% at other end.)\n",
    "![significance1](images/significance1.jpg)\n",
    "* If we use 95% CI to evaluate a hypothesis test where the null hypothesis is true, we will make an error whenever the point estimate is at least 1.96 Standard error away from population parameter. This happens 5% of time (2.5% in each tail) \n",
    "* Similarly using 99% CI to evaluate hypothesis is equivalent to significance level 0.01.\n",
    "* Ex. What confidence level required for CI to be equivalent to a one sided hypothesis test with 10% significance level?\n",
    "    - 80%\n",
    "![CI_SL](images/CI_SL.jpg)"
   ]
  },
  {
   "cell_type": "markdown",
   "metadata": {},
   "source": [
    "-------------\n"
   ]
  },
  {
   "cell_type": "markdown",
   "metadata": {},
   "source": [
    "# Inference for numerical data\n",
    "### t - distribution\n",
    "* When population SD $\\sigma$ is unknown use t - distribution to address the uncertainty of the standard error estimate.\n",
    "* Bell shaped but thicker tails than normal. Peak of t - distribution does not go as high as normal.\n",
    "* Under t - distribution observations are more likely to fall beyond 2 SD from the mean than  normal. MEaning CI will be wider.\n",
    "* Extra thick tails helpful for mitigating the effect of a less reliable estimate for the SE of sampling distribution\n",
    "![t_distribution](images/t_distribution.jpg)\n",
    "* t-distribution always centered at 0 like standard normal distribution.\n",
    "* It has one parameter: degrees of freedom(df) - determines thickness of tail. AS df increases shape of the t-distribution approaches normal distribution.\n",
    "![t_distribution1](images/t_distribution1.jpg)\n"
   ]
  }
 ],
 "metadata": {
  "kernelspec": {
   "display_name": "Python 3",
   "language": "python",
   "name": "python3"
  },
  "language_info": {
   "codemirror_mode": {
    "name": "ipython",
    "version": 3
   },
   "file_extension": ".py",
   "mimetype": "text/x-python",
   "name": "python",
   "nbconvert_exporter": "python",
   "pygments_lexer": "ipython3",
   "version": "3.6.5"
  }
 },
 "nbformat": 4,
 "nbformat_minor": 2
}
