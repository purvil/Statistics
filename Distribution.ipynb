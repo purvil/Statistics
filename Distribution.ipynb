{
 "cells": [
  {
   "cell_type": "code",
   "execution_count": 58,
   "metadata": {},
   "outputs": [],
   "source": [
    "import numpy as np\n",
    "import pandas as pd\n",
    "import matplotlib.pyplot as plt\n",
    "import seaborn as sns\n",
    "sns.set()"
   ]
  },
  {
   "cell_type": "markdown",
   "metadata": {},
   "source": [
    "* Probability distribution is total listing of various value the random variable can take along with corresponding probability."
   ]
  },
  {
   "cell_type": "markdown",
   "metadata": {},
   "source": [
    "### General continuous distribution\n",
    "* continuous random variable or distribution is defined via a probability density function.\n",
    "* f(x) is density function of variable X, then \n",
    "![](images/continuous1.PNG)\n",
    "\n",
    "* Probability of any particular random variable is 0. as put x1=x2=x in above equation\n",
    "![](images/continuous3.PNG)\n",
    "\n",
    "* We also have\n",
    "![](images/continuous2.PNG)\n",
    "\n",
    "* Cumulative distribution function is \n",
    "![](images/continuous4.PNG)\n"
   ]
  },
  {
   "cell_type": "markdown",
   "metadata": {},
   "source": [
    "### Uniform Distribution\n",
    "* Each variable in specified range has same probability.\n",
    "* Probability density function is flat.\n",
    "* Probability density function is \n",
    "\n",
    "$$f(x) = \\frac{1}{b-a}$$\n",
    "![](images/uniform.PNG)\n",
    "\n",
    "![](images/uniform1.PNG)"
   ]
  },
  {
   "cell_type": "markdown",
   "metadata": {},
   "source": [
    "* Suppose amount  of gas sold daily at pump is uniformly distributed with min of 2000 gallons and max of 5000 gallons\n",
    "* Probability of daily sale fal between 2500 and 3000 is\n",
    "    * $\\frac{1}{5000-2000}(3000-2500)$ = 0.1667\n",
    "    \n",
    "* Probability of service station will sell at least 4000 gallons\n",
    "    * P(X > 4000) = $\\frac{1}{5000-2000}(5000-4000)$ = 0.3333"
   ]
  },
  {
   "cell_type": "markdown",
   "metadata": {},
   "source": [
    "## Normal (Gaussian) Distribution\n",
    "* Unimodal and symmetric\n",
    "* Bell curve\n",
    "* Follows very strict guideline about how variably data are distributed around the mean.\n",
    "* It has 2 parameters mean $\\mu$ and standard deviation $\\sigma$\n",
    "\n",
    "* Changing the mean shifts the curve left or right, changing the SD, stretched or constricts the curve.\n",
    "![normal](images/normal1.JPG)\n",
    "\n",
    "![normal](images/normal2.JPG)"
   ]
  },
  {
   "cell_type": "code",
   "execution_count": 5,
   "metadata": {},
   "outputs": [],
   "source": [
    "from scipy.stats import norm\n",
    "sample = norm.rvs(loc=0, scale=1, size=10000)"
   ]
  },
  {
   "cell_type": "code",
   "execution_count": 6,
   "metadata": {},
   "outputs": [
    {
     "name": "stderr",
     "output_type": "stream",
     "text": [
      "C:\\Users\\davep\\Anaconda3\\lib\\site-packages\\scipy\\stats\\stats.py:1713: FutureWarning: Using a non-tuple sequence for multidimensional indexing is deprecated; use `arr[tuple(seq)]` instead of `arr[seq]`. In the future this will be interpreted as an array index, `arr[np.array(seq)]`, which will result either in an error or a different result.\n",
      "  return np.add.reduce(sorted[indexer] * weights, axis=axis) / sumval\n"
     ]
    },
    {
     "data": {
      "text/plain": [
       "<matplotlib.axes._subplots.AxesSubplot at 0x24cc90342b0>"
      ]
     },
     "execution_count": 6,
     "metadata": {},
     "output_type": "execute_result"
    }
   ],
   "source": [
    "sns.distplot(sample)"
   ]
  },
  {
   "cell_type": "code",
   "execution_count": 7,
   "metadata": {},
   "outputs": [
    {
     "data": {
      "text/plain": [
       "0.24197072451914337"
      ]
     },
     "execution_count": 7,
     "metadata": {},
     "output_type": "execute_result"
    }
   ],
   "source": [
    "norm.pdf(-1, loc=0, scale=1) # loc is mean and scale is SD"
   ]
  },
  {
   "cell_type": "markdown",
   "metadata": {},
   "source": [
    "* Probability of getting value below -1"
   ]
  },
  {
   "cell_type": "code",
   "execution_count": 8,
   "metadata": {},
   "outputs": [
    {
     "data": {
      "text/plain": [
       "0.15865525393145707"
      ]
     },
     "execution_count": 8,
     "metadata": {},
     "output_type": "execute_result"
    }
   ],
   "source": [
    "norm.cdf(-1, loc=0, scale=1)"
   ]
  },
  {
   "cell_type": "code",
   "execution_count": 9,
   "metadata": {},
   "outputs": [
    {
     "data": {
      "text/plain": [
       "-0.8416212335729142"
      ]
     },
     "execution_count": 9,
     "metadata": {},
     "output_type": "execute_result"
    }
   ],
   "source": [
    "norm.ppf(0.2) # Percent point funciton, maps value from probability"
   ]
  },
  {
   "cell_type": "code",
   "execution_count": 10,
   "metadata": {},
   "outputs": [
    {
     "data": {
      "text/plain": [
       "0.15865525393145707"
      ]
     },
     "execution_count": 10,
     "metadata": {},
     "output_type": "execute_result"
    }
   ],
   "source": [
    "norm.sf(1) # probability of value more than 1"
   ]
  },
  {
   "cell_type": "code",
   "execution_count": 11,
   "metadata": {},
   "outputs": [
    {
     "data": {
      "text/plain": [
       "(-0.994457883209753, 0.9944578832097535)"
      ]
     },
     "execution_count": 11,
     "metadata": {},
     "output_type": "execute_result"
    }
   ],
   "source": [
    "norm.interval(0.68, loc=0, scale=1) # range of value 1 SD from mean"
   ]
  },
  {
   "cell_type": "markdown",
   "metadata": {},
   "source": [
    "* Time required to build a computer is mean 50 and SD 10, what is probability of time to build computer between 45 and 60"
   ]
  },
  {
   "cell_type": "code",
   "execution_count": 12,
   "metadata": {},
   "outputs": [
    {
     "data": {
      "text/plain": [
       "0.532807207342556"
      ]
     },
     "execution_count": 12,
     "metadata": {},
     "output_type": "execute_result"
    }
   ],
   "source": [
    "norm.cdf(60,loc=50, scale=10) - norm.cdf(45,loc=50, scale=10)"
   ]
  },
  {
   "cell_type": "markdown",
   "metadata": {},
   "source": [
    "* Fixed amount of hike in entire sample, mean will increase by same amount, no change is SD.\n",
    "* Relative hike like 20% mean = mean * 1.2, SD = SD * 1.2"
   ]
  },
  {
   "cell_type": "markdown",
   "metadata": {},
   "source": [
    "* Dr collects heart rate measurement which is normally distributed. mean = 110, minimum = 65, max = 155. What is standard deviation?\n",
    "    - approximately around 15 [(110 - 65) / 3]"
   ]
  },
  {
   "cell_type": "markdown",
   "metadata": {},
   "source": [
    "* Which of the 2 test takers did better?\n",
    "    - PAM 1800 SAT.\n",
    "    - Jim 24 ACT\n",
    "    - SAT is ~ N(mean = 1500, SD = 300)\n",
    "    - ACT ~ N(mean = 21, SD = 5)\\\n",
    "* Both students score is measured on different scale. so we can not compare them directly.\n",
    "* We should figure out how many SD far score from their respective mean.\n",
    "    - For SAT, Pam's score is 1 SD away\n",
    "    - For ACT. Jim's score is 3/5 = 0.6 SD away\n",
    "    - So pam did better than Jim.\n",
    "\n",
    "![normal](images/normal3.JPG)"
   ]
  },
  {
   "cell_type": "markdown",
   "metadata": {},
   "source": [
    "* To convert back to original from z-score we can use x = 2$\\sigma$ + $\\mu$\n",
    "* We can use original mean or deviation or we can choose whatever we want."
   ]
  },
  {
   "cell_type": "markdown",
   "metadata": {},
   "source": [
    "### Standardizing with Z-score\n",
    "* Z-score (Standardize score) of an observation is the number of SD it falls above or below mean.\n",
    "\n",
    "$$Z = \\frac{observation - mean}{SD}$$\n",
    "\n",
    "* Z-score of mean is 0.\n",
    "* Unusual observation |Z| > 2\n",
    "* It is defined for all distribution of any shape as every distribution has SD and mean.\n",
    "* When distribution is normal Z-score is also be used to calculate percentiles. Percentile is % of observations that fall below given data point. It is basically area of the curve below given observation.\n",
    "    - Ex. SAT Score, mean = 1500 SD = 300 , earned 1800 in exam. What is percentile\n",
    "    - Z score = (1800-1500) / 300 = 1.00\n",
    "    - P(z < 1) = 0.8413 according to [table](https://www.openintro.org/download.php?file=os2_prob_tables&referrer=coursera.php) \n",
    "    - 84.13 %"
   ]
  },
  {
   "cell_type": "markdown",
   "metadata": {},
   "source": [
    "## Evaluate normal distribution\n",
    "### Normal probability plot\n",
    "* Useful to identify departure of normality, outlier, skewness, kurtosis(measure of tailness). Actually we sort the value, From standard normal distribution generate sample of same size as sample and sort it. Plot sorted value from the sample and random values. If distribution of sample is normal the result is straight line with mean as intercept and slope as standard deviation.\n",
    "![](images/normal_probability_plot.PNG)\n",
    "* Data are plotted on y-axis of a normal probability plot, and theoretical quantiles which follows normal distribution on the x-axis.\n",
    "* If there is one to one relationship between the data and theoretical quantiles then the data follow normal distribution.\n",
    "* Since one to one relationship would appear as a straight line on scatter plot, the closer the point to the line, more confident we can be that data follow normal distribution.\n",
    "![normal](images/normal4.JPG)\n",
    "\n",
    "![normal](images/normal5.JPG)\n",
    "\n",
    "* Most point near the low end with fewer observations scattered on  high end, which is right skewed.\n",
    "* Most point near the high end with fewer observations scattered on  low end, which is right skewed."
   ]
  },
  {
   "cell_type": "markdown",
   "metadata": {},
   "source": [
    "* To meausre kurtosis use\n",
    "```\n",
    "stats.kurtosis(distribution)\n",
    "```\n",
    "* Negative means curveis slightly more flat than normal distribution, +ve means curve is more peaky than normal distribution"
   ]
  },
  {
   "cell_type": "markdown",
   "metadata": {},
   "source": [
    "* Using `stats.skew(distribution)` we can find skew"
   ]
  },
  {
   "cell_type": "markdown",
   "metadata": {},
   "source": [
    "![](images/birth_weight_normal_probability_plot.PNG)\n",
    "* Heaviest baby are heavier than the ideal and lighter are very light. Normal model are well within few standard deviation from mean, but after that not normal."
   ]
  },
  {
   "cell_type": "markdown",
   "metadata": {},
   "source": [
    "* In log normal model, to visualize how well the sample fits a log normal model we can make normal probability plot of log value in sample.\n",
    "![](images/lognormal.PNG)"
   ]
  },
  {
   "cell_type": "markdown",
   "metadata": {},
   "source": [
    "* Height, strength, temperature are normally distributed.\n",
    "* Age of retirement, car price after discount, Age of death are negative (left) skewed distribution\n",
    "* Time between call in call center, time until light bulb die, amount of drug in blood are right skewed."
   ]
  },
  {
   "cell_type": "code",
   "execution_count": 13,
   "metadata": {},
   "outputs": [
    {
     "data": {
      "text/plain": [
       "0.5"
      ]
     },
     "execution_count": 13,
     "metadata": {},
     "output_type": "execute_result"
    }
   ],
   "source": [
    "import scipy.stats\n",
    "scipy.stats.norm.cdf(0) # median of standard normal distribution is 0 half value falls below it so cdf(0) = 0.5"
   ]
  },
  {
   "cell_type": "markdown",
   "metadata": {},
   "source": [
    "![](images/cdf_normal.PNG)"
   ]
  },
  {
   "cell_type": "markdown",
   "metadata": {},
   "source": [
    "```\n",
    "plot(x, y, marker = '.', linestyle = 'none')\n",
    "```"
   ]
  },
  {
   "cell_type": "code",
   "execution_count": 18,
   "metadata": {},
   "outputs": [],
   "source": [
    "import math\n",
    "import matplotlib.pyplot as plt\n",
    "def normal_pdf(x, mu=0, sigma= 1):\n",
    "    sqrt_two_pi = math.sqrt(2*math.pi)\n",
    "    return (math.exp(-(x-mu) ** 2/2/sigma**2)/(sqrt_two_pi * sigma))"
   ]
  },
  {
   "cell_type": "code",
   "execution_count": 19,
   "metadata": {},
   "outputs": [
    {
     "data": {
      "text/plain": [
       "Text(0.5, 1.0, 'Normal pdf')"
      ]
     },
     "execution_count": 19,
     "metadata": {},
     "output_type": "execute_result"
    },
    {
     "data": {
      "image/png": "[encoded data removed]",
      "text/plain": [
       "<Figure size 432x288 with 1 Axes>"
      ]
     },
     "metadata": {
      "needs_background": "light"
     },
     "output_type": "display_data"
    }
   ],
   "source": [
    "xs = [x / 10.0 for x in range(-50, 50)]\n",
    "plt.plot(xs, [normal_pdf(x,sigma=1) for x in xs], '-', label='mu=0, sigma=1')\n",
    "plt.plot(xs, [normal_pdf(x,sigma=2) for x in xs], '--', label='mu=0, sigma=2')\n",
    "plt.plot(xs, [normal_pdf(x,sigma=0.5) for x in xs], ':', label='mu=0, sigma=0.5')\n",
    "plt.plot(xs, [normal_pdf(x,mu = -1, sigma=1) for x in xs], '-.', label='mu=-1, sigma=1')\n",
    "plt.legend()\n",
    "plt.title(\"Normal pdf\")"
   ]
  },
  {
   "cell_type": "code",
   "execution_count": 22,
   "metadata": {},
   "outputs": [],
   "source": [
    "def normal_cdf(x, mu= 0, sigma =1):\n",
    "    return (1+math.erf((x-mu)/math.sqrt(2)/sigma)) /2"
   ]
  },
  {
   "cell_type": "code",
   "execution_count": 25,
   "metadata": {},
   "outputs": [
    {
     "data": {
      "text/plain": [
       "<matplotlib.legend.Legend at 0x24ccab38940>"
      ]
     },
     "execution_count": 25,
     "metadata": {},
     "output_type": "execute_result"
    },
    {
     "data": {
      "image/png": "[encoded data removed]",
      "text/plain": [
       "<Figure size 432x288 with 1 Axes>"
      ]
     },
     "metadata": {
      "needs_background": "light"
     },
     "output_type": "display_data"
    }
   ],
   "source": [
    "xs = [x/10.0 for x in range(-50,50)]\n",
    "plt.plot(xs, [normal_cdf(x,sigma=1) for x in xs], '-',label='mu=0, sigma=1')\n",
    "plt.plot(xs, [normal_cdf(x,sigma=2) for x in xs], '--',label='mu=0, sigma=2')\n",
    "plt.plot(xs, [normal_cdf(x,sigma=0.5) for x in xs], ':',label='mu=0, sigma=0.5')\n",
    "plt.plot(xs, [normal_cdf(x,mu=-1) for x in xs], '-.',label='mu=-1, sigma=1')\n",
    "plt.legend()"
   ]
  },
  {
   "cell_type": "markdown",
   "metadata": {},
   "source": [
    "* CDF implementation"
   ]
  },
  {
   "cell_type": "code",
   "execution_count": 76,
   "metadata": {},
   "outputs": [],
   "source": [
    "def cdf(data):\n",
    "    n = len(data)\n",
    "    x = sorted(data)\n",
    "    y = np.arange(1, n + 1) / n\n",
    "    \n",
    "    return (x,y)"
   ]
  },
  {
   "cell_type": "markdown",
   "metadata": {},
   "source": [
    "* Then using `plt.plot(x,y, marker = '.')` plot cdf"
   ]
  },
  {
   "cell_type": "code",
   "execution_count": 74,
   "metadata": {},
   "outputs": [
    {
     "name": "stderr",
     "output_type": "stream",
     "text": [
      "C:\\Users\\davep\\Anaconda3\\lib\\site-packages\\matplotlib\\axes\\_axes.py:6521: MatplotlibDeprecationWarning: \n",
      "The 'normed' kwarg was deprecated in Matplotlib 2.1 and will be removed in 3.1. Use 'density' instead.\n",
      "  alternative=\"'density'\", removal=\"3.1\")\n",
      "C:\\Users\\davep\\Anaconda3\\lib\\site-packages\\matplotlib\\axes\\_axes.py:6521: MatplotlibDeprecationWarning: \n",
      "The 'normed' kwarg was deprecated in Matplotlib 2.1 and will be removed in 3.1. Use 'density' instead.\n",
      "  alternative=\"'density'\", removal=\"3.1\")\n",
      "C:\\Users\\davep\\Anaconda3\\lib\\site-packages\\matplotlib\\axes\\_axes.py:6521: MatplotlibDeprecationWarning: \n",
      "The 'normed' kwarg was deprecated in Matplotlib 2.1 and will be removed in 3.1. Use 'density' instead.\n",
      "  alternative=\"'density'\", removal=\"3.1\")\n"
     ]
    },
    {
     "data": {
      "text/plain": [
       "(-0.01, 0.42)"
      ]
     },
     "execution_count": 74,
     "metadata": {},
     "output_type": "execute_result"
    },
    {
     "data": {
      "image/png": "[encoded data removed]",
      "text/plain": [
       "<Figure size 432x288 with 1 Axes>"
      ]
     },
     "metadata": {},
     "output_type": "display_data"
    }
   ],
   "source": [
    "# Draw 100000 samples from Normal distribution with stds of interest: samples_std1, samples_std3, samples_std10\n",
    "\n",
    "samples_std1 = np.random.normal(20, 1, size = 100000)\n",
    "samples_std3 = np.random.normal(20, 3, size = 100000)\n",
    "samples_std10 = np.random.normal(20, 10, size = 100000)\n",
    "\n",
    "\n",
    "# Make histograms\n",
    "plt.hist(samples_std1, bins = 100, normed=True,histtype='step')\n",
    "plt.hist(samples_std3, bins = 100, normed=True,histtype='step')\n",
    "plt.hist(samples_std10, bins = 100, normed=True,histtype='step')\n",
    "\n",
    "# Make a legend, set limits and show plot\n",
    "_ = plt.legend(('std = 1', 'std = 3', 'std = 10'))\n",
    "plt.ylim(-0.01, 0.42)"
   ]
  },
  {
   "cell_type": "code",
   "execution_count": 78,
   "metadata": {},
   "outputs": [
    {
     "data": {
      "text/plain": [
       "[<matplotlib.lines.Line2D at 0x24cd2c51470>]"
      ]
     },
     "execution_count": 78,
     "metadata": {},
     "output_type": "execute_result"
    },
    {
     "data": {
      "image/png": "[encoded data removed]",
      "text/plain": [
       "<Figure size 432x288 with 1 Axes>"
      ]
     },
     "metadata": {},
     "output_type": "display_data"
    }
   ],
   "source": [
    "# Generate CDFs\n",
    "x_std1, y_std1 = cdf(samples_std1)\n",
    "x_std3, y_std3 = cdf(samples_std3)\n",
    "x_std10, y_std10 = cdf(samples_std10)\n",
    "\n",
    "# Plot CDFs\n",
    "plt.plot(x_std1, y_std1, marker = '.', linestyle='none')\n",
    "plt.plot(x_std3, y_std3, marker = '.', linestyle='none')\n",
    "plt.plot(x_std10, y_std10, marker = '.', linestyle='none')"
   ]
  },
  {
   "cell_type": "markdown",
   "metadata": {},
   "source": [
    "-----------"
   ]
  },
  {
   "cell_type": "markdown",
   "metadata": {},
   "source": [
    "# Bernoulli Distribution\n",
    "* When individual trial has only 2 possible outcome, it is called **Bernoulli random variable**. We label one of those as success and other as failure. Ofter encoded as 1 for success and 0 for failure.\n",
    "* According to milgram experiments 65% people obey authority and give shocks. If person give shock it is failure, otherwise success.\n",
    "* 0.65 probability of failure, 0.35 probability of success."
   ]
  },
  {
   "cell_type": "markdown",
   "metadata": {},
   "source": [
    "* If X is the random variable which take value 1(success) with probability p. and 0(failure) with 1-p, so X is bernoulli random variable with mean = p, and SD = $\\sqrt{p(1-p)}$"
   ]
  },
  {
   "cell_type": "markdown",
   "metadata": {},
   "source": [
    "* P is probability of success so mean of random bernoulli variable,\n",
    "    - mean = E[X] = P(X = 0) * 0 + P(X = 1) * 1 = (1-p) * 0 + p * 1 = p\n",
    "* Variance = P(x = 0) (0 - p)^2 + P(X = 1) (1 - p)^2 = p(1 - p)"
   ]
  },
  {
   "cell_type": "code",
   "execution_count": 33,
   "metadata": {},
   "outputs": [
    {
     "data": {
      "text/plain": [
       "array([0])"
      ]
     },
     "execution_count": 33,
     "metadata": {},
     "output_type": "execute_result"
    }
   ],
   "source": [
    "from scipy.stats import bernoulli\n",
    "bernoulli.rvs(p = 0.5, size = 1) # simulate 1 coin flip with 0.5 success"
   ]
  },
  {
   "cell_type": "code",
   "execution_count": 34,
   "metadata": {},
   "outputs": [
    {
     "data": {
      "text/plain": [
       "array([1, 0, 1, 1, 1, 0, 1, 0, 1, 0])"
      ]
     },
     "execution_count": 34,
     "metadata": {},
     "output_type": "execute_result"
    }
   ],
   "source": [
    "bernoulli.rvs(p = 0.5, size = 10) # simulate 10 coin flip with 0.5 success"
   ]
  },
  {
   "cell_type": "code",
   "execution_count": 35,
   "metadata": {},
   "outputs": [
    {
     "data": {
      "text/plain": [
       "3"
      ]
     },
     "execution_count": 35,
     "metadata": {},
     "output_type": "execute_result"
    }
   ],
   "source": [
    "sum(bernoulli.rvs(p = 0.5, size = 10)) # number of success in 10 coin flip with 0.5 success"
   ]
  },
  {
   "cell_type": "code",
   "execution_count": 37,
   "metadata": {},
   "outputs": [
    {
     "data": {
      "text/plain": [
       "array([5, 5, 6, 5, 4, 7, 4, 3, 4, 6, 3, 6, 5, 6, 4, 7, 4, 6, 4, 4])"
      ]
     },
     "execution_count": 37,
     "metadata": {},
     "output_type": "execute_result"
    }
   ],
   "source": [
    "from scipy.stats import binom\n",
    "binom.rvs(n=10, p = 0.5, size=20)\n",
    "# 20 trials of 10 coin flip with success 0.5 and count number of success in each trial"
   ]
  },
  {
   "cell_type": "code",
   "execution_count": 58,
   "metadata": {},
   "outputs": [],
   "source": [
    "from scipy.stats import describe"
   ]
  },
  {
   "cell_type": "code",
   "execution_count": 60,
   "metadata": {},
   "outputs": [
    {
     "data": {
      "text/plain": [
       "0.519"
      ]
     },
     "execution_count": 60,
     "metadata": {},
     "output_type": "execute_result"
    }
   ],
   "source": [
    "describe(binom.rvs(n=1, p=0.5, size=2000)).mean # mean of 2000 coin flip"
   ]
  },
  {
   "cell_type": "code",
   "execution_count": 62,
   "metadata": {},
   "outputs": [
    {
     "data": {
      "text/plain": [
       "DescribeResult(nobs=1000, minmax=(0, 10), mean=4.945, variance=2.4163913913913917, skewness=-0.014005210680475236, kurtosis=-0.04122077495192933)"
      ]
     },
     "execution_count": 62,
     "metadata": {},
     "output_type": "execute_result"
    }
   ],
   "source": [
    "describe(binom.rvs(n=10, p = 0.5, size= 1000))"
   ]
  },
  {
   "cell_type": "markdown",
   "metadata": {},
   "source": [
    "* Generate sample of 2 coin flip for 1000 throws"
   ]
  },
  {
   "cell_type": "code",
   "execution_count": 63,
   "metadata": {},
   "outputs": [],
   "source": [
    "sample = binom.rvs(n=2, p=0.5, size=1000)"
   ]
  },
  {
   "cell_type": "code",
   "execution_count": 65,
   "metadata": {},
   "outputs": [
    {
     "data": {
      "text/plain": [
       "array([1, 1, 1, 1, 1, 1, 1, 1, 1, 0])"
      ]
     },
     "execution_count": 65,
     "metadata": {},
     "output_type": "execute_result"
    }
   ],
   "source": [
    "sample[:10]"
   ]
  },
  {
   "cell_type": "code",
   "execution_count": 67,
   "metadata": {},
   "outputs": [
    {
     "data": {
      "text/plain": [
       "RepeatedResults(values=array([0., 1., 2.]), counts=array([265, 490, 245], dtype=int64))"
      ]
     },
     "execution_count": 67,
     "metadata": {},
     "output_type": "execute_result"
    }
   ],
   "source": [
    "from scipy.stats import find_repeats\n",
    "find_repeats(sample) # how many times each outcomes repeat"
   ]
  },
  {
   "cell_type": "code",
   "execution_count": 69,
   "metadata": {},
   "outputs": [
    {
     "data": {
      "text/plain": [
       "array([0.25, 0.5 , 0.25])"
      ]
     },
     "execution_count": 69,
     "metadata": {},
     "output_type": "execute_result"
    }
   ],
   "source": [
    "binom.pmf([0,1,2], n=2, p=0.5) # probability of 0 head, 1 head and 2 head"
   ]
  },
  {
   "cell_type": "code",
   "execution_count": 59,
   "metadata": {},
   "outputs": [],
   "source": [
    "def perform_bernoulli_trials(n, p):\n",
    "    arr = np.random.random(size = n)\n",
    "    return np.sum(arr < p)"
   ]
  },
  {
   "cell_type": "code",
   "execution_count": 60,
   "metadata": {},
   "outputs": [
    {
     "data": {
      "text/plain": [
       "4"
      ]
     },
     "execution_count": 60,
     "metadata": {},
     "output_type": "execute_result"
    }
   ],
   "source": [
    "perform_bernoulli_trials(100, 0.05)"
   ]
  },
  {
   "cell_type": "markdown",
   "metadata": {},
   "source": [
    "* How many defaults might we expect?\n",
    "    - Bank make 100 mortgage loans. It is possible that between 0 and 100 of loans will defaulted. P = 0.05 is \n",
    "    - We will simulate our study"
   ]
  },
  {
   "cell_type": "code",
   "execution_count": 61,
   "metadata": {},
   "outputs": [],
   "source": [
    "n_defauts = np.empty(1000)\n",
    "for i in range(1000):\n",
    "    n_defauts[i] = perform_bernoulli_trials(100,0.05)\n",
    "    \n",
    "# Above can be done as\n",
    "# np.random.binomial(100,0.05,size=1000)"
   ]
  },
  {
   "cell_type": "code",
   "execution_count": 62,
   "metadata": {},
   "outputs": [
    {
     "data": {
      "image/png": "[encoded data removed]",
      "text/plain": [
       "<Figure size 432x288 with 1 Axes>"
      ]
     },
     "metadata": {},
     "output_type": "display_data"
    }
   ],
   "source": [
    "plt.hist(n_defauts);"
   ]
  },
  {
   "cell_type": "code",
   "execution_count": 63,
   "metadata": {},
   "outputs": [],
   "source": [
    "def cdf(data):\n",
    "    x = sorted(data)\n",
    "    y = np.arange(1, len(data) + 1) / len(data)\n",
    "    return (x,y)"
   ]
  },
  {
   "cell_type": "code",
   "execution_count": 64,
   "metadata": {},
   "outputs": [
    {
     "data": {
      "text/plain": [
       "[<matplotlib.lines.Line2D at 0x24ccfb46828>]"
      ]
     },
     "execution_count": 64,
     "metadata": {},
     "output_type": "execute_result"
    },
    {
     "data": {
      "image/png": "[encoded data removed]",
      "text/plain": [
       "<Figure size 432x288 with 1 Axes>"
      ]
     },
     "metadata": {},
     "output_type": "display_data"
    }
   ],
   "source": [
    "x,y = cdf(n_defauts)\n",
    "plt.plot(x,y, marker = '.', linestyle='none')"
   ]
  },
  {
   "cell_type": "markdown",
   "metadata": {},
   "source": [
    "* Less than 2% chance that more than 10 loand default out of 100."
   ]
  },
  {
   "cell_type": "markdown",
   "metadata": {},
   "source": [
    "* Let's plot PMF"
   ]
  },
  {
   "cell_type": "code",
   "execution_count": 67,
   "metadata": {},
   "outputs": [
    {
     "name": "stderr",
     "output_type": "stream",
     "text": [
      "C:\\Users\\davep\\Anaconda3\\lib\\site-packages\\matplotlib\\axes\\_axes.py:6521: MatplotlibDeprecationWarning: \n",
      "The 'normed' kwarg was deprecated in Matplotlib 2.1 and will be removed in 3.1. Use 'density' instead.\n",
      "  alternative=\"'density'\", removal=\"3.1\")\n"
     ]
    },
    {
     "data": {
      "image/png": "[encoded data removed]",
      "text/plain": [
       "<Figure size 432x288 with 1 Axes>"
      ]
     },
     "metadata": {},
     "output_type": "display_data"
    }
   ],
   "source": [
    "bins = np.arange(min(n_defauts), max(n_defauts)) - 0.5 # 0.5 to make number centered in bin\n",
    "plt.hist(n_defauts, bins = bins, normed=True);"
   ]
  },
  {
   "cell_type": "markdown",
   "metadata": {},
   "source": [
    "# Geometric Distribution\n",
    "* Allows us to calculate probability  of success after k trials, given the probability of success for each trial.\n",
    "* Describes wait time until a success for independent and identically distributed bernoulli random variable. Independent means observations in example do not affect each others. Identical means they each have same probability of success.\n",
    "* Probability of geometric distribution decreases exponentially fast.\n",
    "* Probability of success is p and failure is 1-p. then probability of finding success in nth trial given by $(1 - p)^{n-1} p$ \n",
    "* mean = $\\frac{1}{p}$, SD = $\\sqrt{\\frac{1 - p}{p^2}}$"
   ]
  },
  {
   "cell_type": "markdown",
   "metadata": {},
   "source": [
    "* Ex. Milgram's experiment what is chance that 1st experiment will find success = 0.35\n",
    "* what is chance that 2nd experiment will find success = 0.65 * 0.35\n",
    "* what is chance that 3rd experiment will find success = 0.65 * 0.65 * 0.35\n",
    "* what is chance that nth experiment will find success = $0.65^{n-1}$ * 0.35"
   ]
  },
  {
   "cell_type": "markdown",
   "metadata": {},
   "source": [
    "* On average it takes 1/p trial to get success. If p is high then low trials needed p = 0.8 => 1/0.8 = 1.25 trial\n",
    "* P = 0.1 => 1/10 = 10 trials\n",
    "* Geometric distribution is always right skewed can not be well approximated by normal model.\n",
    "![Geometric distribution](images/geometric_distribution.JPG)"
   ]
  },
  {
   "cell_type": "code",
   "execution_count": 88,
   "metadata": {},
   "outputs": [
    {
     "data": {
      "text/plain": [
       "0.012471080216374412"
      ]
     },
     "execution_count": 88,
     "metadata": {},
     "output_type": "execute_result"
    }
   ],
   "source": [
    "from scipy.stats import geom\n",
    "# Probability of I catch fish after 29 consecutive times P = 0.03333\n",
    "geom.pmf(k=30, p=0.0333)"
   ]
  },
  {
   "cell_type": "markdown",
   "metadata": {},
   "source": [
    "* Probability of basket ball player throw in 4 or fewer attempts"
   ]
  },
  {
   "cell_type": "code",
   "execution_count": 89,
   "metadata": {},
   "outputs": [
    {
     "data": {
      "text/plain": [
       "0.7599"
      ]
     },
     "execution_count": 89,
     "metadata": {},
     "output_type": "execute_result"
    }
   ],
   "source": [
    "geom.cdf(k=4, p=0.3)"
   ]
  },
  {
   "cell_type": "markdown",
   "metadata": {},
   "source": [
    "* Player will score in more than 2 attempt"
   ]
  },
  {
   "cell_type": "code",
   "execution_count": 91,
   "metadata": {},
   "outputs": [
    {
     "data": {
      "text/plain": [
       "0.49"
      ]
     },
     "execution_count": 91,
     "metadata": {},
     "output_type": "execute_result"
    }
   ],
   "source": [
    "geom.sf(k=2, p=0.3)"
   ]
  },
  {
   "cell_type": "code",
   "execution_count": 93,
   "metadata": {},
   "outputs": [
    {
     "data": {
      "text/plain": [
       "3.0"
      ]
     },
     "execution_count": 93,
     "metadata": {},
     "output_type": "execute_result"
    }
   ],
   "source": [
    "geom.ppf(q=0.6, p=0.3) # number of attempts needed p"
   ]
  },
  {
   "cell_type": "code",
   "execution_count": 95,
   "metadata": {},
   "outputs": [],
   "source": [
    "sample = geom.rvs(p=0.3, size=10000)"
   ]
  },
  {
   "cell_type": "code",
   "execution_count": 97,
   "metadata": {},
   "outputs": [
    {
     "data": {
      "image/png": "[encoded data removed]",
      "text/plain": [
       "<Figure size 432x288 with 1 Axes>"
      ]
     },
     "metadata": {
      "needs_background": "light"
     },
     "output_type": "display_data"
    }
   ],
   "source": [
    "sns.distplot(sample, kde=False);"
   ]
  },
  {
   "cell_type": "code",
   "execution_count": 99,
   "metadata": {},
   "outputs": [
    {
     "data": {
      "image/png": "[encoded data removed]",
      "text/plain": [
       "<Figure size 432x288 with 1 Axes>"
      ]
     },
     "metadata": {
      "needs_background": "light"
     },
     "output_type": "display_data"
    }
   ],
   "source": [
    "sns.distplot(sample, bins = np.linspace(0,20,21), kde=False);"
   ]
  },
  {
   "cell_type": "markdown",
   "metadata": {},
   "source": [
    "# Binomial Distribution\n",
    "* Number of H/T in sequence of coin flip\n",
    "* Vote count for 2 different candidate in election\n",
    "* Number of male/female employee in company\n",
    "* Number of successful sales calls\n",
    "* Number of defective products in production run\n",
    "* We are interested in total number of success in n trials. Let X is random variable which is number of success, probability distribution of X is called binomial distribution.\n",
    "* What is the probability that exactly 1 of person out of 4 refuse to administer shock?\n",
    "    - 0.35 * 0.65 * 0.65 * 0.65 Or  0.35 * 0.65 * 0.65 * 0.65 Or 0.35 * 0.65 * 0.65 * 0.65 Or 0.35 * 0.65 * 0.65 * 0.65\n",
    "    - 0.35 * 0.65 * 0.65 * 0.65 +  0.35 * 0.65 * 0.65 * 0.65 +  0.35 * 0.65 * 0.65 * 0.65 +  0.35 * 0.65 * 0.65 * 0.65 \n",
    "    - 0.3844"
   ]
  },
  {
   "cell_type": "markdown",
   "metadata": {},
   "source": [
    "* Binomial distribution describes the probability of having k success in n independent Bernoulli trials with probability of success p, 1 - p is probability of failure.\n",
    "![Binomial distribution](images/binomial_distribution.JPG)   "
   ]
  },
  {
   "cell_type": "markdown",
   "metadata": {},
   "source": [
    "* Above is PMF, allows us to get probability of district random variable."
   ]
  },
  {
   "cell_type": "code",
   "execution_count": 42,
   "metadata": {},
   "outputs": [
    {
     "data": {
      "text/plain": [
       "0.24609375000000025"
      ]
     },
     "execution_count": 42,
     "metadata": {},
     "output_type": "execute_result"
    }
   ],
   "source": [
    "binom.pmf(k = 5, n = 10, p = 0.5) # get probability of getting 5 head from 10 flips"
   ]
  },
  {
   "cell_type": "code",
   "execution_count": 43,
   "metadata": {},
   "outputs": [
    {
     "data": {
      "text/plain": [
       "0.6230468749999999"
      ]
     },
     "execution_count": 43,
     "metadata": {},
     "output_type": "execute_result"
    }
   ],
   "source": [
    "binom.cdf(k = 5, n=10, p = 0.5) # probability of getting 5 or smaller heads from 10 coin flips"
   ]
  },
  {
   "cell_type": "markdown",
   "metadata": {},
   "source": [
    "* To get probability of head for more than 5 times "
   ]
  },
  {
   "cell_type": "code",
   "execution_count": 44,
   "metadata": {},
   "outputs": [
    {
     "data": {
      "text/plain": [
       "0.3769531250000001"
      ]
     },
     "execution_count": 44,
     "metadata": {},
     "output_type": "execute_result"
    }
   ],
   "source": [
    " 1 - binom.cdf(k = 5, n=10, p = 0.5)"
   ]
  },
  {
   "cell_type": "markdown",
   "metadata": {},
   "source": [
    "* or"
   ]
  },
  {
   "cell_type": "code",
   "execution_count": 47,
   "metadata": {},
   "outputs": [
    {
     "data": {
      "text/plain": [
       "0.3769531250000001"
      ]
     },
     "execution_count": 47,
     "metadata": {},
     "output_type": "execute_result"
    }
   ],
   "source": [
    "binom.sf(k=5, n= 10, p =0.5) # survival function"
   ]
  },
  {
   "cell_type": "code",
   "execution_count": 51,
   "metadata": {},
   "outputs": [
    {
     "data": {
      "text/plain": [
       "(array(0.5), array(0.25))"
      ]
     },
     "execution_count": 51,
     "metadata": {},
     "output_type": "execute_result"
    }
   ],
   "source": [
    "binom.stats(n=1, p=0.5) # return expected value and variance"
   ]
  },
  {
   "cell_type": "code",
   "execution_count": 52,
   "metadata": {},
   "outputs": [
    {
     "data": {
      "text/plain": [
       "(array(5.), array(2.5))"
      ]
     },
     "execution_count": 52,
     "metadata": {},
     "output_type": "execute_result"
    }
   ],
   "source": [
    "binom.stats(n=10, p=0.5) # expected value from 10 coin flips"
   ]
  },
  {
   "cell_type": "markdown",
   "metadata": {},
   "source": [
    "* Example:\n",
    "* We noticed out of 50 product we get 2 % product faulty.\n",
    "* What is probability of getting 1 product faulty out of 50\n"
   ]
  },
  {
   "cell_type": "code",
   "execution_count": 48,
   "metadata": {},
   "outputs": [
    {
     "data": {
      "text/plain": [
       "0.37160171437461204"
      ]
     },
     "execution_count": 48,
     "metadata": {},
     "output_type": "execute_result"
    }
   ],
   "source": [
    "binom.pmf(k=1, n=50, p = 0.02)"
   ]
  },
  {
   "cell_type": "markdown",
   "metadata": {},
   "source": [
    "* What is probability of getting 0 product faulty"
   ]
  },
  {
   "cell_type": "code",
   "execution_count": 49,
   "metadata": {},
   "outputs": [
    {
     "data": {
      "text/plain": [
       "0.3641696800871171"
      ]
     },
     "execution_count": 49,
     "metadata": {},
     "output_type": "execute_result"
    }
   ],
   "source": [
    "binom.pmf(k=0,n=50, p=0.02)"
   ]
  },
  {
   "cell_type": "markdown",
   "metadata": {},
   "source": [
    "* what is probability of 2 or less product faulty"
   ]
  },
  {
   "cell_type": "code",
   "execution_count": 50,
   "metadata": {},
   "outputs": [
    {
     "data": {
      "text/plain": [
       "0.9215722516490308"
      ]
     },
     "execution_count": 50,
     "metadata": {},
     "output_type": "execute_result"
    }
   ],
   "source": [
    "binom.cdf(k=2, n=50, p = 0.02)"
   ]
  },
  {
   "cell_type": "markdown",
   "metadata": {},
   "source": [
    "* Ex. How many scenario yield 1 success in 4 trials\n",
    "\n",
    "$$\\binom{4}{1} = \\frac{4!}{1! * 3!} = 4$$ \n",
    "\n",
    "* Ex. How many scenario yield 2 success in 9 trials\n",
    "\n",
    "$$\\binom{9}{2} = \\frac{9!}{2! * 7!} = 36$$ "
   ]
  },
  {
   "cell_type": "markdown",
   "metadata": {},
   "source": [
    "* Number of total items defective in production is binomial if probability of  bad product is constant\n",
    "* Proportion of customer satisfied by service\n",
    "* Number of people respond to a treatment\n",
    "* Number of people answer yes to survey."
   ]
  },
  {
   "cell_type": "code",
   "execution_count": 15,
   "metadata": {},
   "outputs": [
    {
     "data": {
      "text/plain": [
       "<BarContainer object of 11 artists>"
      ]
     },
     "execution_count": 15,
     "metadata": {},
     "output_type": "execute_result"
    },
    {
     "data": {
      "image/png": "[encoded data removed]",
      "text/plain": [
       "<Figure size 432x288 with 1 Axes>"
      ]
     },
     "metadata": {
      "needs_background": "light"
     },
     "output_type": "display_data"
    }
   ],
   "source": [
    "from scipy.stats import binom\n",
    "\n",
    "outcome_count = [0,1,2,3,4,5,6,7,8,9, 10]\n",
    "dist = binom.pmf(outcome_count, 30, 0.39)  # 30 is N and 0.39 is probability of success\n",
    "plt.bar(outcome_count, dist)"
   ]
  },
  {
   "cell_type": "markdown",
   "metadata": {},
   "source": [
    "* To generate probability of number of k or smaller success occur we can use cdf"
   ]
  },
  {
   "cell_type": "code",
   "execution_count": 22,
   "metadata": {},
   "outputs": [
    {
     "data": {
      "text/plain": [
       "0.6579615314099678"
      ]
     },
     "execution_count": 22,
     "metadata": {},
     "output_type": "execute_result"
    }
   ],
   "source": [
    "binom.cdf(4, 10, 0.39)"
   ]
  },
  {
   "cell_type": "code",
   "execution_count": 23,
   "metadata": {},
   "outputs": [
    {
     "data": {
      "text/plain": [
       "4"
      ]
     },
     "execution_count": 23,
     "metadata": {},
     "output_type": "execute_result"
    }
   ],
   "source": [
    "# np.random.binomial(n, p, size) # n is number of events, with success p (head is success for our example)\n",
    "np.random.binomial(10, 0.5)"
   ]
  },
  {
   "cell_type": "markdown",
   "metadata": {},
   "source": [
    "* 4 is number of success meaning number of head."
   ]
  },
  {
   "cell_type": "markdown",
   "metadata": {},
   "source": [
    "* There are 10 multiple questions. Only 1 answer is correct, Probability of success = 0.25.\n",
    "* What is the probability for the student getting 0 answer correct.\n",
    "    - P(X=0) = $\\frac{10!}{0!(10-0)!}0.25^0(1-0.25)^{10-0}$ = 0.0563"
   ]
  },
  {
   "cell_type": "code",
   "execution_count": 100,
   "metadata": {},
   "outputs": [
    {
     "data": {
      "text/plain": [
       "0.056313514709472684"
      ]
     },
     "execution_count": 100,
     "metadata": {},
     "output_type": "execute_result"
    }
   ],
   "source": [
    "binom.pmf(k=0, n=10, p=0.25)"
   ]
  },
  {
   "cell_type": "markdown",
   "metadata": {},
   "source": [
    "* What is the probability for the student getting 2 answer correct.\n",
    "    - P(X=2) = $\\frac{10!}{2!(10-2)!}0.25^2(1-0.25)^{10-2}$ = 0.2816"
   ]
  },
  {
   "cell_type": "code",
   "execution_count": 103,
   "metadata": {},
   "outputs": [
    {
     "data": {
      "text/plain": [
       "0.28156757354736334"
      ]
     },
     "execution_count": 103,
     "metadata": {},
     "output_type": "execute_result"
    }
   ],
   "source": [
    "binom.pmf(k=2, n=10, p=0.25)"
   ]
  },
  {
   "cell_type": "markdown",
   "metadata": {},
   "source": [
    "* E(X) = 10 * 0.25 = 2.5\n",
    "* V(X) = 10 * 0.25 * (1-0.25) = 1.875"
   ]
  },
  {
   "cell_type": "markdown",
   "metadata": {},
   "source": [
    "### Binomial conditions\n",
    "* Trials must be independent.\n",
    "* Number of trial n must be fixed.\n",
    "* Each trial outcome must be classified as a success or failure.\n",
    "* Probability of success p must be same for each trial."
   ]
  },
  {
   "cell_type": "markdown",
   "metadata": {},
   "source": [
    "* Number of people download new music app is not binomial as it can be forced by their friends."
   ]
  },
  {
   "cell_type": "markdown",
   "metadata": {},
   "source": [
    "* Always verify condition before using binomial model.\n",
    "* Ex. 13% of employees are committed to job.among random sample of 10 employees what is the probability that 8 are committed to work?\n",
    "    - $\\binom{10}{8} * 0.87^2 * 0.13^8$ = 0.00000278"
   ]
  },
  {
   "cell_type": "markdown",
   "metadata": {},
   "source": [
    "* Binomial distribution Expected value = mean = n * p\n",
    "* Expected value is most likely result of single sample we look at. SD is how much actual value will vary from expectation.\n",
    "* Expected value is sum of possible outcomes weighted by its probability\n",
    "* Variance is expected value of the squared deviation from its expected value\n",
    "* Out of 100 employee how many expected to commited to work ? = 10  * 0.13 = 13 \n",
    "* SD = $\\sqrt{np(1-p)}$\n",
    "* Sd for above example = 3.36, meaning 13 out of 100 expected to be commited to work give or take 3.36 employees."
   ]
  },
  {
   "cell_type": "markdown",
   "metadata": {},
   "source": [
    "### Normal approximation of binomial\n",
    "* When we want to find range of observations normal approximation is useful,\n",
    "    - Ex. 25% FB users are power users. Avg FB friends = 245, P(70 or more power users)\n",
    "    - P(70) + p(71) + P(72) + ---- + P(245) Which is very hard to find via hand.\n",
    "    - mean = np = 61.25, SD = 6.75\n",
    "    - Using normal approximation, Z = 1.29 \n",
    "    - Probability = 0.0985\n",
    "    - This will be not exactly same as binomial (in short range approximations falls short), as under continuous normal distribution Probability of exact 70 success is undefined so start from P(>=69.5). Result we get 0.1112\n",
    "* When sample size is large enough binomial distribution looks like normal.\n",
    "![Binomial  Normal distribution](images/normal_binomial.JPG)"
   ]
  },
  {
   "cell_type": "markdown",
   "metadata": {},
   "source": [
    "* When can I use normal approximation?\n",
    "     - Binomial distribution with at least 10 expected successes and 10 expected failures closely follows a normal distribution\n",
    "     - np >= 10, n(1-p) >=10\n",
    "* In this can we can approximate binomial(n, p) ~ normal(mean, SD)\n",
    "    - where mean = np and SD = $\\sqrt{np(1-p)}$\n",
    "* Also use 0.5 adjustment so probability via normal approximation is much closer to binomial.\n",
    "* Ex. what is minimum n for binomial distribution with p = 0.25 to follow a normal distribution.\n",
    "    - n * 0.25 >= 10 and n * 0.75 >=10 --> n >= 40 and n >= 13.33 --> at least 40 observation needed."
   ]
  },
  {
   "cell_type": "markdown",
   "metadata": {},
   "source": [
    "# Negative binomial Distribution\n",
    "* Probability of observing kth success on nth trial.\n",
    "* Condition for negative binomial\n",
    "    - Trials must be independent\n",
    "    - Each trial outcome can be classified as success of failure\n",
    "    - Probability of success p is same for each trial\n",
    "    - Last trial must be success\n",
    "![Negative  binomial distribution](images/negative_binomial.JPG)"
   ]
  },
  {
   "cell_type": "markdown",
   "metadata": {},
   "source": [
    "* We fix last observation to success. SO out of other n-1 observation we want k - 1 success. So, $\\binom{n-1}{k-1}$"
   ]
  },
  {
   "cell_type": "markdown",
   "metadata": {},
   "source": [
    "* A fair coin flip produces heads"
   ]
  },
  {
   "cell_type": "code",
   "execution_count": 79,
   "metadata": {},
   "outputs": [
    {
     "data": {
      "text/plain": [
       "0.499331"
      ]
     },
     "execution_count": 79,
     "metadata": {},
     "output_type": "execute_result"
    }
   ],
   "source": [
    "# simulate 1 million tests of one fair coin flip\n",
    "# remember, the output of these tests are the # successes, or # heads\n",
    "tests = np.random.binomial(1, 0.5, int(1e6))\n",
    "\n",
    "# proportion of tests that produced heads\n",
    "(tests == 1).mean()"
   ]
  },
  {
   "cell_type": "markdown",
   "metadata": {},
   "source": [
    "* Five fair coin flips produce exactly one head"
   ]
  },
  {
   "cell_type": "code",
   "execution_count": 80,
   "metadata": {},
   "outputs": [
    {
     "data": {
      "text/plain": [
       "0.155951"
      ]
     },
     "execution_count": 80,
     "metadata": {},
     "output_type": "execute_result"
    }
   ],
   "source": [
    "# simulate 1 million tests of five fair coin flips\n",
    "tests = np.random.binomial(5, 0.5, int(1e6))\n",
    "\n",
    "# proportion of tests that produced 1 head\n",
    "(tests == 1).mean()"
   ]
  },
  {
   "cell_type": "markdown",
   "metadata": {},
   "source": [
    "* Ten fair coin flips produce exactly four heads"
   ]
  },
  {
   "cell_type": "code",
   "execution_count": 81,
   "metadata": {},
   "outputs": [
    {
     "data": {
      "text/plain": [
       "0.205651"
      ]
     },
     "execution_count": 81,
     "metadata": {},
     "output_type": "execute_result"
    }
   ],
   "source": [
    "# simulate 1 million tests of ten fair coin flips\n",
    "tests = np.random.binomial(10, 0.5,size=int(1e6))\n",
    "\n",
    "# proportion of tests that produced 4 heads\n",
    "(tests==4).mean()"
   ]
  },
  {
   "cell_type": "markdown",
   "metadata": {},
   "source": [
    "* Five biased coin flips with P(H) = 0.8 produce exactly five heads"
   ]
  },
  {
   "cell_type": "code",
   "execution_count": 83,
   "metadata": {},
   "outputs": [
    {
     "data": {
      "text/plain": [
       "0.326805"
      ]
     },
     "execution_count": 83,
     "metadata": {},
     "output_type": "execute_result"
    }
   ],
   "source": [
    "# simulate 1 million tests of five biased coin flips\n",
    "tests = np.random.binomial(5, 0.8, int(1e6))\n",
    "\n",
    "# proportion of tests that produced 5 heads\n",
    "(tests == 5).mean()"
   ]
  },
  {
   "cell_type": "markdown",
   "metadata": {},
   "source": [
    "* Ten biased coin flips with P(H) = 0.15 produce at least 3 heads"
   ]
  },
  {
   "cell_type": "code",
   "execution_count": 84,
   "metadata": {},
   "outputs": [
    {
     "data": {
      "text/plain": [
       "0.179012"
      ]
     },
     "execution_count": 84,
     "metadata": {},
     "output_type": "execute_result"
    }
   ],
   "source": [
    "# simulate 1 million tests of ten biased coin flips\n",
    "tests = np.random.binomial(10, 0.15, size=int(1e6))\n",
    "\n",
    "# proportion of tests that produced at least 3 heads\n",
    "(tests >= 3).mean()"
   ]
  },
  {
   "cell_type": "markdown",
   "metadata": {},
   "source": [
    "### Binomial vs Negative binomial\n",
    "* In binomial we have fix number of trials and consider number of success.\n",
    "* In negative binomial we examine how many trials take to observe fixed number of success being last trial is success."
   ]
  },
  {
   "cell_type": "markdown",
   "metadata": {},
   "source": [
    "* Ex. P = 0.8 of kicking goal. Probability of observing 4th goal on 6th trial?\n",
    "    - $\\binom{5}{3} * 0.8^4 * 0.2^2$ = 0.164"
   ]
  },
  {
   "cell_type": "markdown",
   "metadata": {},
   "source": [
    "### Poisson process\n",
    "* Timing of the next event is completely independent of previous event happened.\n",
    "* Natural birth in given hospital.\n",
    "* Hit on website in a given hour\n",
    "* Aviation accident\n",
    "* Number of arrival of poisson process in given time is poisson distribution.\n",
    "    - THe number of hists on a website in one hour with an average hit rate of 6 per hour in poisson distribution."
   ]
  },
  {
   "cell_type": "markdown",
   "metadata": {},
   "source": [
    "* Poisson distribution is limit of binomial distribution for rare events. We do bernoulli trial every minute for an hour,  each with success probability of 0.1. We will do 60 trials, we will expect total 6 successes in 1 hour. This is like poisson distribution with average 6 hits per hour. Poisson distribution with arrival rate of np approximates a binomial distribution for n binomial trial and with probability of success p"
   ]
  },
  {
   "cell_type": "code",
   "execution_count": 68,
   "metadata": {},
   "outputs": [],
   "source": [
    "sample_poisson = np.random.poisson(10, size=10000)"
   ]
  },
  {
   "cell_type": "code",
   "execution_count": 69,
   "metadata": {},
   "outputs": [
    {
     "data": {
      "text/plain": [
       "9.9963"
      ]
     },
     "execution_count": 69,
     "metadata": {},
     "output_type": "execute_result"
    }
   ],
   "source": [
    "np.mean(sample_poisson)"
   ]
  },
  {
   "cell_type": "code",
   "execution_count": 70,
   "metadata": {},
   "outputs": [
    {
     "data": {
      "text/plain": [
       "3.1509183280434296"
      ]
     },
     "execution_count": 70,
     "metadata": {},
     "output_type": "execute_result"
    }
   ],
   "source": [
    "np.std(sample_poisson)"
   ]
  },
  {
   "cell_type": "code",
   "execution_count": 73,
   "metadata": {},
   "outputs": [
    {
     "name": "stdout",
     "output_type": "stream",
     "text": [
      "n = 20, p = 0.5, mean = 9.9975, std = 2.2225871748932593\n",
      "n = 100, p = 0.1, mean = 10.0126, std = 3.0353980365019675\n",
      "n = 1000, p = 0.01, mean = 9.9894, std = 3.095462427489631\n"
     ]
    }
   ],
   "source": [
    "n = [20,100,1000]\n",
    "p = [0.5,0.1,0.01]\n",
    "for i in range(3):\n",
    "    sample_binomial = np.random.binomial(n[i], p[i], size=10000)\n",
    "    print('n = {}, p = {}, mean = {}, std = {}'.format(n[i], p[i], np.mean(sample_binomial), np.std(sample_binomial)))"
   ]
  },
  {
   "cell_type": "markdown",
   "metadata": {},
   "source": [
    "* As P gets lower SD of binomial get closer to poisson.\n",
    "* When we have rare events (low p, high n), the Binomial distribution is Poisson. This has a single parameter, the mean number of successes per time interval"
   ]
  },
  {
   "cell_type": "markdown",
   "metadata": {},
   "source": [
    "# Poisson Distribution\n",
    "* Model frequency by which event occur during fixed interval of time. \n",
    "* Hourly number of customer arrive at bank\n",
    "* Daily accident on particular highway\n",
    "* Hourly number of access to web server\n",
    "* Number of emergency calls in 911.\n",
    "* Monthly absent employee\n",
    "* Monthly demand of product.\n",
    "* Estimates number of events in a large population over a unit of time. Ex. Having heart attack, getting married.\n",
    "* Describes number of events that will occur in a fixed time for a fixed population if the individuals within population are independent.\n",
    "* The distribution of number of events in an interval is the same for all intervals of the same size.\n",
    "* For a “small” time interval, the probability of observing an event is proportional to the length of the interval.\n",
    "* The probability of observing two or more events in an interval approaches zero as the interval becomes smaller.\n",
    "* $\\lambda$ be the rate at which events occur, t be the length  of interval and X be the total number of events in the time interval. X is poisson random variable and the probability distribution of X is Poisson distribution. \n",
    "* Parameter is poisson distribution is rate $\\lambda$.\n",
    "* Using rate we can describe probability of observing exactly k events in a unit of time.\n",
    "![poisson](images/poisson.jpg)\n"
   ]
  },
  {
   "cell_type": "markdown",
   "metadata": {},
   "source": [
    "* Number of telephone call arriving in call center\n",
    "* Probability of number of events occurs in fixed interval of times of that event occurring with known constant rate and independent to time since last happen.\n",
    "* Individual receive 4 mail per day, if receiving mail is independent from each other then number of mail received per day can be modeled as poisson distribution.\n",
    "* In bank 6 customer arrive in 2 minutes, what is probability of exactly 4 customer will come in given minute.\n",
    "    * $\\lambda = 3$ \n",
    "    - 0.168031"
   ]
  },
  {
   "cell_type": "markdown",
   "metadata": {},
   "source": [
    "* Average call per minute  at call center is 2.2. Find Probability of having 3 phone calls"
   ]
  },
  {
   "cell_type": "code",
   "execution_count": 80,
   "metadata": {},
   "outputs": [
    {
     "data": {
      "text/plain": [
       "0.19663867170702193"
      ]
     },
     "execution_count": 80,
     "metadata": {},
     "output_type": "execute_result"
    }
   ],
   "source": [
    "from scipy.stats import poisson\n",
    "poisson.pmf(k=3, mu=2.2)"
   ]
  },
  {
   "cell_type": "code",
   "execution_count": 81,
   "metadata": {},
   "outputs": [
    {
     "data": {
      "text/plain": [
       "0.11080315836233387"
      ]
     },
     "execution_count": 81,
     "metadata": {},
     "output_type": "execute_result"
    }
   ],
   "source": [
    "poisson.pmf(k=0, mu=2.2) # Probability of not getting any call"
   ]
  },
  {
   "cell_type": "markdown",
   "metadata": {},
   "source": [
    "* Probability of having 2 or fewer phone calls in a minute"
   ]
  },
  {
   "cell_type": "code",
   "execution_count": 82,
   "metadata": {},
   "outputs": [
    {
     "data": {
      "text/plain": [
       "0.6227137499963162"
      ]
     },
     "execution_count": 82,
     "metadata": {},
     "output_type": "execute_result"
    }
   ],
   "source": [
    "poisson.cdf(k=2, mu=2.2)"
   ]
  },
  {
   "cell_type": "code",
   "execution_count": null,
   "metadata": {},
   "outputs": [],
   "source": [
    "* Probability of more than 2 calls per minute"
   ]
  },
  {
   "cell_type": "code",
   "execution_count": 83,
   "metadata": {},
   "outputs": [
    {
     "data": {
      "text/plain": [
       "0.3772862500036838"
      ]
     },
     "execution_count": 83,
     "metadata": {},
     "output_type": "execute_result"
    }
   ],
   "source": [
    "poisson.sf(k=2, mu=2.2)"
   ]
  },
  {
   "cell_type": "code",
   "execution_count": 84,
   "metadata": {},
   "outputs": [
    {
     "data": {
      "text/plain": [
       "2.0"
      ]
     },
     "execution_count": 84,
     "metadata": {},
     "output_type": "execute_result"
    }
   ],
   "source": [
    "poisson.ppf(q=0.5, mu=2.2) # nunmber of call likely to happen with probability 0.5"
   ]
  },
  {
   "cell_type": "code",
   "execution_count": 85,
   "metadata": {},
   "outputs": [],
   "source": [
    "sample = poisson.rvs(mu=2.2, size=10000)"
   ]
  },
  {
   "cell_type": "code",
   "execution_count": 87,
   "metadata": {},
   "outputs": [
    {
     "data": {
      "image/png": "[encoded data removed]",
      "text/plain": [
       "<Figure size 432x288 with 1 Axes>"
      ]
     },
     "metadata": {
      "needs_background": "light"
     },
     "output_type": "display_data"
    }
   ],
   "source": [
    "sns.distplot(sample,kde=False);"
   ]
  },
  {
   "cell_type": "markdown",
   "metadata": {},
   "source": [
    "* Number of typos in text book is poisson distributed with mean 1.5 per 100 page. Suppose 100 page are randomly selected from text book what is the probability of no typos?"
   ]
  },
  {
   "cell_type": "markdown",
   "metadata": {},
   "source": [
    "P(X=0) = $\\frac{1.5^0 * e^{-1.5}}{0!}$ = 0.2231"
   ]
  },
  {
   "cell_type": "code",
   "execution_count": 106,
   "metadata": {},
   "outputs": [
    {
     "data": {
      "text/plain": [
       "0.22313016014842982"
      ]
     },
     "execution_count": 106,
     "metadata": {},
     "output_type": "execute_result"
    }
   ],
   "source": [
    "poisson.pmf(k=0, mu = 1.5)"
   ]
  },
  {
   "cell_type": "markdown",
   "metadata": {},
   "source": [
    "* 400 pages are randomly selected what is the probability of no typos"
   ]
  },
  {
   "cell_type": "markdown",
   "metadata": {},
   "source": [
    "P(X=0) =  $\\frac{1.5*4^0 * e^{-1.5*4}}{0!}$ = 0.002479"
   ]
  },
  {
   "cell_type": "code",
   "execution_count": 107,
   "metadata": {},
   "outputs": [
    {
     "data": {
      "text/plain": [
       "0.0024787521766663585"
      ]
     },
     "execution_count": 107,
     "metadata": {},
     "output_type": "execute_result"
    }
   ],
   "source": [
    "poisson.pmf(k=0, mu=1.5*4)"
   ]
  },
  {
   "cell_type": "markdown",
   "metadata": {},
   "source": [
    "#### Poisson approximation to the binomial distribution\n",
    "* Divide time interval in n equal size subinterval. Suppose n is very large so that either 1 or 0 event can occur in sub interval. Probability of event to occur in subinterval is $\\mu$/n, independent of other subintervals. Total number of events X in that interval has a binomial distribution with parameter n and $\\mu$/n\n",
    "![](images/poisson_approx.PNG)"
   ]
  },
  {
   "cell_type": "markdown",
   "metadata": {},
   "source": [
    "### Pareto distribution\n",
    "* Describe size of city, town, sand particles, forest fire and earthquake.\n",
    "\n",
    "CDF(X) = 1 - $\\frac{x}{x_m}^{-\\alpha}$"
   ]
  },
  {
   "cell_type": "markdown",
   "metadata": {},
   "source": [
    "* $x_m$ and $\\alpha$ determine location and shape of distribution. $x_m$ is minimum possible value"
   ]
  },
  {
   "cell_type": "markdown",
   "metadata": {},
   "source": [
    "### Probability density function\n",
    "* Assign relative likelihood to each observation in distribution\n",
    "* PDF is derivation of CDF.\n",
    "* PDF of exponential distribution is $\\lambda e^{-\\lambda e}$\n",
    "* It measure probability per unit of x.\n",
    "* KDE is algorithm that takes a sample and finds approximate smooth PDF that can fit data"
   ]
  },
  {
   "cell_type": "code",
   "execution_count": 6,
   "metadata": {},
   "outputs": [],
   "source": [
    "# scipy.stats.gaussian_kde(sample)"
   ]
  },
  {
   "cell_type": "markdown",
   "metadata": {},
   "source": [
    "* It is used in visualization, interpolation(estimate population) from sample. If population distribution is smooth, we can use KDE to interpolate value that does not appear in sample. KDE is used to smooth the sample when sample size is small."
   ]
  },
  {
   "cell_type": "markdown",
   "metadata": {},
   "source": [
    "### Probability mass function\n",
    "* Probability of discrete set of values.\n",
    "* To get CDF from PMF we add up probability to get cumulative probability. To get PMF from CDF we compute difference in cumulative probability. CDF is integration of PDF.\n",
    "![](images/distribution_functions.PNG)"
   ]
  },
  {
   "cell_type": "markdown",
   "metadata": {},
   "source": [
    "### Pearson median skewness coefficient\n",
    "* Measure of skewness based on the difference between sample mean and median\n",
    "$$3\\frac{(\\bar{x} - median)}{SD}$$"
   ]
  },
  {
   "cell_type": "markdown",
   "metadata": {},
   "source": [
    "* Sign of skewness shows left or right skew."
   ]
  },
  {
   "cell_type": "markdown",
   "metadata": {},
   "source": [
    "* Jittering reduce effect of rounding and make shape more cleaner."
   ]
  },
  {
   "cell_type": "markdown",
   "metadata": {},
   "source": [
    "* In continuous distribution probability of each outcome is 0. \n",
    "* Probability of spinning bottle stops at 180 = 0\n",
    "* Probability of spinning bottle stops between 0 to 180 is 0.5. P(a < x <= b) = |b-a| / 360.\n",
    "* "
   ]
  },
  {
   "cell_type": "markdown",
   "metadata": {},
   "source": [
    "## Exponential Distribution\n",
    "* The waiting time between arrival of poisson process is Exponentially distributed.\n",
    "* f(x) = $\\lambda e^{-\\lambda x}$\n",
    "* $\\lambda$ is rate, instantaneous failure rate of a device at any time t, given that device survived up to t.\n",
    "* Useful to model time interval between random events.\n",
    "* The length of time between telephone calls\n",
    "* The length of time between arrivals at a service station\n",
    "* The life time of electronic components, i.e., an interfailure time\n",
    "* Total number of events in time period t follows Poisson distribution $\\lambda t$"
   ]
  },
  {
   "cell_type": "markdown",
   "metadata": {},
   "source": [
    "* E(X) = 1/$\\lambda$\n",
    "* V(X) = $\\frac{1}{\\lambda}^2$"
   ]
  },
  {
   "cell_type": "markdown",
   "metadata": {},
   "source": [
    "* Greater the rate faster the curves drops"
   ]
  },
  {
   "cell_type": "markdown",
   "metadata": {},
   "source": [
    "* The lifetime X of an alkaline battery is exponentially distributed with λ = 0.05 per hour.\n",
    "    - E(X) = 1/0.05 = 20hrs\n",
    "* What are the probabilities for the battery to last between 10 and 15 hours and to last more than 20 hours? \n",
    "    - P(10 < x <= 15) = $e^{-0.05*10} - e^{-0.05*15}$ = 0.1341\n",
    "    - P(X>20) = $e^{-0.05*20}$ = 0.3679"
   ]
  },
  {
   "cell_type": "code",
   "execution_count": null,
   "metadata": {},
   "outputs": [],
   "source": []
  }
 ],
 "metadata": {
  "kernelspec": {
   "display_name": "Python 3",
   "language": "python",
   "name": "python3"
  },
  "language_info": {
   "codemirror_mode": {
    "name": "ipython",
    "version": 3
   },
   "file_extension": ".py",
   "mimetype": "text/x-python",
   "name": "python",
   "nbconvert_exporter": "python",
   "pygments_lexer": "ipython3",
   "version": "3.7.1"
  }
 },
 "nbformat": 4,
 "nbformat_minor": 2
}
