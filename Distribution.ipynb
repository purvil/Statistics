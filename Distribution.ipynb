{
 "cells": [
  {
   "cell_type": "markdown",
   "metadata": {},
   "source": [
    "## Normal (Gaussian) Distribution\n",
    "* Unimodal and symmetric\n",
    "* Bell curve\n",
    "* Follows very strict guideline about how variably data are distributed around the mean.\n",
    "* It has 2 parameters mean $\\mu$ and standard deviation $\\sigma$\n",
    "\n",
    "* Changing the mean shifts the curve left or right, changing the SD, stretched or constricts the curve.\n",
    "![normal](images/normal1.jpg)\n",
    "\n",
    "![normal](images/normal2.jpg)"
   ]
  },
  {
   "cell_type": "markdown",
   "metadata": {},
   "source": [
    "* Dr collects heart rate measurement which is normally distributed. mean = 110, minimum = 65, max = 155. What is standard deviation?\n",
    "    - approximately around 15 [(110 - 45) / 3]"
   ]
  },
  {
   "cell_type": "markdown",
   "metadata": {},
   "source": [
    "* Which of the 2 test takers did better?\n",
    "    - PAM 1800 SAT.\n",
    "    - Jim 24 ACT\n",
    "    - SAT is ~ N(mean = 1500, SD = 300)\n",
    "    - ACT ~ N(mean = 21, SD = 5)\\\n",
    "* Both students score is measured on different scale. so we can not compare them directly.\n",
    "* We should figure out how many SD far score from their respective mean.\n",
    "    - For SAT, Pam's score is 1 SD away\n",
    "    - For ACT. Jim's score is 3/5 = 0.6 SD away\n",
    "    - So pam did better than Jim.\n",
    "\n",
    "![normal](images/normal3.jpg)"
   ]
  },
  {
   "cell_type": "markdown",
   "metadata": {},
   "source": [
    "### Standardizing with Z-score\n",
    "* Z-score (Standardize score) of an observation is the number of SD it falls above or below mean.\n",
    "\n",
    "$$Z = \\frac{observation - mean}{SD}$$\n",
    "\n",
    "* Z-score of mean is 0.\n",
    "* Unusual observation |Z| > 2\n",
    "* It is defined for all distribution of any shape as every distribution has SD and mean.\n",
    "* When distribution is normal Z-score is also be used to calculate percentiles. Percentile is % of observations that fall below given data point. It is basically area of the curve below given observation.\n",
    "    - Ex. SAT Score, mean = 1500 SD = 300 , earned 1800 in exam. What is percentile\n",
    "    - Z score = (1800-1500) / 300 = 1.00\n",
    "    - P(z < 1) = 0.8413 according to [table](https://www.openintro.org/download.php?file=os2_prob_tables&referrer=coursera.php) \n",
    "    - 84.13 %"
   ]
  },
  {
   "cell_type": "markdown",
   "metadata": {},
   "source": [
    "## Evaluate normal distribution\n",
    "### Normal probability plot\n",
    "* Data are plotted on y-axis of a normal probability plot, and theoretical quantiles which follows normal distribution on the x-axis.\n",
    "* If there is one to one relationship between the data and theoretical quantiles then the data follow normal distribution.\n",
    "* Since one to one relationship would appear as a straight line on scatter plot, the closer the point to the line, more confident we can be that data follow normal distribution.\n",
    "![normal](images/normal4.jpg)\n",
    "\n",
    "![normal](images/normal5.jpg)\n",
    "\n",
    "* Most point near the low end with fewer observations scattered on  high end, which is right skewed.\n",
    "* Most point near the high end with fewer observations scattered on  low end, which is right skewed.\n"
   ]
  },
  {
   "cell_type": "markdown",
   "metadata": {},
   "source": [
    "-----------"
   ]
  },
  {
   "cell_type": "markdown",
   "metadata": {},
   "source": [
    "# Bernoulli Distribution\n",
    "* When individual trial has only 2 possible outcome, it is called **Bernoulli random variable**. We label one of those as success and other as failure. Ofter encoded as 1 for success and 0 for failure.\n",
    "* According to milgram experiments 65% people obey authority and give shocks. If person give shock it is failure, otherwise success.\n",
    "* 0.65 probability of failure, 0.35 probability of success."
   ]
  },
  {
   "cell_type": "markdown",
   "metadata": {},
   "source": [
    "* If X is the random variable which take value 1(success) with probability p. and 0(failure) with 1-p, so X is bernoulli random variable with mean = p, and SD = $\\sqrt{p(1-p)}$"
   ]
  },
  {
   "cell_type": "markdown",
   "metadata": {},
   "source": [
    "* P is probability of success so mean of random bernoulli variable,\n",
    "    - mean = E[X] = P(X = 0) * 0 + P(X = 1) * 1 = (1-p) * 0 + p * 1 = p\n",
    "* Variance = P(x = 0) (0 - p)^2 + P(X = 1) (1 - p)^2 = p(1 - p)"
   ]
  },
  {
   "cell_type": "markdown",
   "metadata": {},
   "source": [
    "# Geometric Distribution\n",
    "* Describes wait time until a success for independent and identically distributed bernoulli random variable. Independent means observations in example do not affect each others. Identical means they each have same probability of success.\n",
    "* Probability of geometric distribution decreases exponentially fast.\n",
    "* Probability of success is p and failure is 1-p. then probability of finding success in nth trial given by $(1 - p)^{n-1} p$ \n",
    "* mean = $\\frac{1}{p}$, SD = $\\sqrt{\\frac{1 - p}{p^2}}$"
   ]
  },
  {
   "cell_type": "markdown",
   "metadata": {},
   "source": [
    "* Ex. Milgram's experiment what is chance that 1st experiment will find success = 0.35\n",
    "* what is chance that 2nd experiment will find success = 0.65 * 0.35\n",
    "* what is chance that 3rd experiment will find success = 0.65 * 0.65 * 0.35\n",
    "* what is chance that nth experiment will find success = $0.65^{n-1}$ * 0.35"
   ]
  },
  {
   "cell_type": "markdown",
   "metadata": {},
   "source": [
    "* On average it takes 1/p trial to get success. If p is high then low trials needed p = 0.8 => 1/0.8 = 1.25 trial\n",
    "* P = 0.1 => 1/10 = 10 trials\n",
    "* Geometric distribution is always right skewed can not be well approximated by normal model.\n",
    "![Geometric distribution](images/geometric_distribution.jpg)"
   ]
  },
  {
   "cell_type": "markdown",
   "metadata": {},
   "source": [
    "# Binomial Distribution\n",
    "* What is the probability that exactly 1 of person out of 4 refuse to administer shock?\n",
    "    - 0.35 * 0.65 * 0.65 * 0.65 Or  0.35 * 0.65 * 0.65 * 0.65 Or 0.35 * 0.65 * 0.65 * 0.65 Or 0.35 * 0.65 * 0.65 * 0.65\n",
    "    - 0.35 * 0.65 * 0.65 * 0.65 +  0.35 * 0.65 * 0.65 * 0.65 +  0.35 * 0.65 * 0.65 * 0.65 +  0.35 * 0.65 * 0.65 * 0.65 \n",
    "    - 0.3844"
   ]
  },
  {
   "cell_type": "markdown",
   "metadata": {},
   "source": [
    "* Binomial distribution describes the probability of having k success in n independent Bernoulli trials with probability of success p, 1 - p is probability of failure.\n",
    "![Binomial distribution](images/binomial_distribution.jpg)   "
   ]
  },
  {
   "cell_type": "markdown",
   "metadata": {},
   "source": [
    "* Ex. How many scenario yield 1 success in 4 trials\n",
    "\n",
    "$$\\binom{4}{1} = \\frac{4!}{1! * 3!} = 4$$ \n",
    "\n",
    "* Ex. How many scenario yield 2 success in 9 trials\n",
    "\n",
    "$$\\binom{9}{2} = \\frac{9!}{2! * 7!} = 36$$ "
   ]
  },
  {
   "cell_type": "markdown",
   "metadata": {},
   "source": [
    "### Binomial conditions\n",
    "* Trials must be independent.\n",
    "* Number of trial n must be fixed.\n",
    "* Each trial outcome must be classified as a success or failure.\n",
    "* Probability of success p must be same for each trial."
   ]
  },
  {
   "cell_type": "markdown",
   "metadata": {},
   "source": [
    "* Always verify condition before using binomial model.\n",
    "* Ex. 13% of employees are committed to job.among random sample of 10 employees what is the probability that 8 are committed to work?\n",
    "    - $\\binom{10}{8} * 0.87^2 * 0.13^8$ = 0.00000278"
   ]
  },
  {
   "cell_type": "markdown",
   "metadata": {},
   "source": [
    "* Binomial distribution Expected value = mean = n * p\n",
    "* Out of 100 employee how many expected to commited to work ? = 10  * 0.13 = 13 \n",
    "* SD = $\\sqrt{np(1-p)}$\n",
    "* Sd for above example = 3.36, meaning 13 out of 100 expected to be commited to work give or take 3.36 employees."
   ]
  },
  {
   "cell_type": "markdown",
   "metadata": {},
   "source": [
    "### Normal approximation of binomial\n",
    "* When we want to find range of observations normal approximation is useful,\n",
    "    - Ex. 25% FB users are power users. Avg FB friends = 245, P(70 or more power users)\n",
    "    - P(70) + p(71) + P(72) + ---- + P(245) Which is very hard to find via hand.\n",
    "    - mean = np = 61.25, SD = 6.75\n",
    "    - Using normal approximation, Z = 1.29 \n",
    "    - Probability = 0.0985\n",
    "    - This will be not exactly same as binomial (in short range approximations falls short), as under continuous normal distribution Probability of exact 70 success is undefined so start from P(>=69.5). Result we get 0.1112\n",
    "* When sample size is large enough binomial distribution looks like normal.\n",
    "![Binomial  Normal distribution](images/normal_binomial.jpg)"
   ]
  },
  {
   "cell_type": "markdown",
   "metadata": {},
   "source": [
    "* When can I use normal approximation?\n",
    "     - Binomial distribution with at least 10 expected successes and 10 expected failures closely follows a normal distribution\n",
    "     - np >= 10, n(1-p) >=10\n",
    "* In this can we can approximate binomial(n, p) ~ normal(mean, SD)\n",
    "    - where mean = np and SD = $\\sqrt{np(1-p)}$\n",
    "* Also use 0.5 adjustment so probability via normal approximation is much closer to binomial.\n",
    "* Ex. what is minimum n for binomial distribution with p = 0.25 to follow a normal distribution.\n",
    "    - n * 0.25 >= 10 and n * 0.75 >=10 --> n >= 40 and n >= 13.33 --> at least 40 observation needed."
   ]
  },
  {
   "cell_type": "markdown",
   "metadata": {},
   "source": [
    "# Negative binomial Distribution\n",
    "* Probability of observing kth success on nth trial.\n",
    "* Condition for negative binomial\n",
    "    - Trials must be independent\n",
    "    - Each trial outcome can be classified as success of failure\n",
    "    - Probability of success p is same for each trial\n",
    "    - Last trial must be success\n",
    "![Negative  binomial distribution](images/negative_binomial.jpg)"
   ]
  },
  {
   "cell_type": "markdown",
   "metadata": {},
   "source": [
    "* We fix last observation to success. SO out of other n-1 observation we want k - 1 success. So, $\\binom{n-1}{k-1}$"
   ]
  },
  {
   "cell_type": "markdown",
   "metadata": {},
   "source": [
    "### Binomial vs Negative binomial\n",
    "* In binomial we have fix number of trials and consider number of success.\n",
    "* In negative binomial we examine how many trials take to observe fixed number of success being last trial is success."
   ]
  },
  {
   "cell_type": "markdown",
   "metadata": {},
   "source": [
    "* Ex. P = 0.8 of kicking goal. Probability of observing 4th goal on 6th trial?\n",
    "    - $\\binom{5}{3} * 0.8^4 * 0.2^2$ = 0.164"
   ]
  },
  {
   "cell_type": "markdown",
   "metadata": {},
   "source": [
    "# Poisson Distribution\n",
    "* Estimates number of events in a large population over a unit of time. Ex. Having heart attack, getting married.\n",
    "* Describes number of events that will occur in a fixed time for a fixed population if the individuals within population are independent.\n",
    "* Parameter is poisson distribution is rate $\\lambda$.\n",
    "* Using rate we can describe probability of observing exactly k events in a unit of time.\n",
    "![poisson](images/poisson.jpg)"
   ]
  },
  {
   "cell_type": "code",
   "execution_count": null,
   "metadata": {},
   "outputs": [],
   "source": []
  }
 ],
 "metadata": {
  "kernelspec": {
   "display_name": "Python 3",
   "language": "python",
   "name": "python3"
  },
  "language_info": {
   "codemirror_mode": {
    "name": "ipython",
    "version": 3
   },
   "file_extension": ".py",
   "mimetype": "text/x-python",
   "name": "python",
   "nbconvert_exporter": "python",
   "pygments_lexer": "ipython3",
   "version": "3.6.5"
  }
 },
 "nbformat": 4,
 "nbformat_minor": 2
}
